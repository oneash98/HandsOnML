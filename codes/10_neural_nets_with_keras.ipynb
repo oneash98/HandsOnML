{
 "cells": [
  {
   "cell_type": "markdown",
   "metadata": {},
   "source": [
    "# 10. 케라스를 사용한 인공 신경망 소개"
   ]
  },
  {
   "cell_type": "code",
   "execution_count": 1,
   "metadata": {},
   "outputs": [],
   "source": [
    "# 공통 모듈 임포트\n",
    "import numpy as np\n",
    "import os\n",
    "\n",
    "# 깔금한 그래프 출력을 위해\n",
    "%matplotlib inline\n",
    "import matplotlib as mpl\n",
    "import matplotlib.pyplot as plt\n",
    "mpl.rc('axes', labelsize=14)    \n",
    "mpl.rc('xtick', labelsize=12)\n",
    "mpl.rc('ytick', labelsize=12)\n",
    "plt.rc('font', family='AppleGothic')\n",
    "plt.rcParams['axes.unicode_minus'] = False"
   ]
  },
  {
   "cell_type": "markdown",
   "metadata": {},
   "source": [
    "## 10.1 생물학적 뉴런에서 인공 뉴런까지"
   ]
  },
  {
   "cell_type": "markdown",
   "metadata": {},
   "source": [
    "### 10.1.1 생물학적 뉴런"
   ]
  },
  {
   "cell_type": "markdown",
   "metadata": {},
   "source": [
    "### 10.1.2 뉴런을 사용한 논리 연산"
   ]
  },
  {
   "cell_type": "markdown",
   "metadata": {},
   "source": [
    "### 10.1.3 퍼셉트론"
   ]
  },
  {
   "cell_type": "code",
   "execution_count": 2,
   "metadata": {},
   "outputs": [],
   "source": [
    "import numpy as np\n",
    "from sklearn.datasets import load_iris\n",
    "from sklearn.linear_model import Perceptron\n",
    "\n",
    "iris = load_iris()\n",
    "X = iris.data[:, (2, 3)]\n",
    "y = (iris.target == 0).astype(np.int32)\n",
    "\n",
    "per_clf = Perceptron()\n",
    "per_clf.fit(X, y)\n",
    "\n",
    "y_pred = per_clf.predict([[2, 0.5]])"
   ]
  },
  {
   "cell_type": "code",
   "execution_count": 3,
   "metadata": {},
   "outputs": [
    {
     "data": {
      "text/plain": [
       "array([0], dtype=int32)"
      ]
     },
     "execution_count": 3,
     "metadata": {},
     "output_type": "execute_result"
    }
   ],
   "source": [
    "y_pred"
   ]
  },
  {
   "cell_type": "markdown",
   "metadata": {},
   "source": [
    "### 10.1.4 다층 퍼셉트론과 역전파"
   ]
  },
  {
   "cell_type": "markdown",
   "metadata": {},
   "source": [
    "### 10.1.5 회귀를 위한 다층 퍼셉트론"
   ]
  },
  {
   "cell_type": "markdown",
   "metadata": {},
   "source": [
    "### 10.1.6 분류를 위한 다층 퍼셉트론"
   ]
  },
  {
   "cell_type": "markdown",
   "metadata": {},
   "source": [
    "## 10.2 케라스로 다층 퍼셉트론 구현하기"
   ]
  },
  {
   "cell_type": "markdown",
   "metadata": {},
   "source": [
    "### 10.2.1 텐서플로2 설치"
   ]
  },
  {
   "cell_type": "code",
   "execution_count": 4,
   "metadata": {},
   "outputs": [
    {
     "name": "stdout",
     "output_type": "stream",
     "text": [
      "Requirement already satisfied: tensorflow in /Library/Frameworks/Python.framework/Versions/3.10/lib/python3.10/site-packages (2.13.0)\n",
      "Requirement already satisfied: tensorflow-macos==2.13.0 in /Library/Frameworks/Python.framework/Versions/3.10/lib/python3.10/site-packages (from tensorflow) (2.13.0)\n",
      "Requirement already satisfied: absl-py>=1.0.0 in /Library/Frameworks/Python.framework/Versions/3.10/lib/python3.10/site-packages (from tensorflow-macos==2.13.0->tensorflow) (1.4.0)\n",
      "Requirement already satisfied: astunparse>=1.6.0 in /Library/Frameworks/Python.framework/Versions/3.10/lib/python3.10/site-packages (from tensorflow-macos==2.13.0->tensorflow) (1.6.3)\n",
      "Requirement already satisfied: flatbuffers>=23.1.21 in /Library/Frameworks/Python.framework/Versions/3.10/lib/python3.10/site-packages (from tensorflow-macos==2.13.0->tensorflow) (23.5.26)\n",
      "Requirement already satisfied: gast<=0.4.0,>=0.2.1 in /Library/Frameworks/Python.framework/Versions/3.10/lib/python3.10/site-packages (from tensorflow-macos==2.13.0->tensorflow) (0.4.0)\n",
      "Requirement already satisfied: google-pasta>=0.1.1 in /Library/Frameworks/Python.framework/Versions/3.10/lib/python3.10/site-packages (from tensorflow-macos==2.13.0->tensorflow) (0.2.0)\n",
      "Requirement already satisfied: h5py>=2.9.0 in /Library/Frameworks/Python.framework/Versions/3.10/lib/python3.10/site-packages (from tensorflow-macos==2.13.0->tensorflow) (3.9.0)\n",
      "Requirement already satisfied: libclang>=13.0.0 in /Library/Frameworks/Python.framework/Versions/3.10/lib/python3.10/site-packages (from tensorflow-macos==2.13.0->tensorflow) (16.0.6)\n",
      "Requirement already satisfied: numpy<=1.24.3,>=1.22 in /Library/Frameworks/Python.framework/Versions/3.10/lib/python3.10/site-packages (from tensorflow-macos==2.13.0->tensorflow) (1.24.1)\n",
      "Requirement already satisfied: opt-einsum>=2.3.2 in /Library/Frameworks/Python.framework/Versions/3.10/lib/python3.10/site-packages (from tensorflow-macos==2.13.0->tensorflow) (3.3.0)\n",
      "Requirement already satisfied: packaging in /Users/oneash/Library/Python/3.10/lib/python/site-packages (from tensorflow-macos==2.13.0->tensorflow) (23.0)\n",
      "Requirement already satisfied: protobuf!=4.21.0,!=4.21.1,!=4.21.2,!=4.21.3,!=4.21.4,!=4.21.5,<5.0.0dev,>=3.20.3 in /Library/Frameworks/Python.framework/Versions/3.10/lib/python3.10/site-packages (from tensorflow-macos==2.13.0->tensorflow) (3.20.3)\n",
      "Requirement already satisfied: setuptools in /Library/Frameworks/Python.framework/Versions/3.10/lib/python3.10/site-packages (from tensorflow-macos==2.13.0->tensorflow) (67.3.2)\n",
      "Requirement already satisfied: six>=1.12.0 in /Users/oneash/Library/Python/3.10/lib/python/site-packages (from tensorflow-macos==2.13.0->tensorflow) (1.16.0)\n",
      "Requirement already satisfied: termcolor>=1.1.0 in /Library/Frameworks/Python.framework/Versions/3.10/lib/python3.10/site-packages (from tensorflow-macos==2.13.0->tensorflow) (2.3.0)\n",
      "Requirement already satisfied: typing-extensions<4.6.0,>=3.6.6 in /Library/Frameworks/Python.framework/Versions/3.10/lib/python3.10/site-packages (from tensorflow-macos==2.13.0->tensorflow) (4.5.0)\n",
      "Requirement already satisfied: wrapt>=1.11.0 in /Library/Frameworks/Python.framework/Versions/3.10/lib/python3.10/site-packages (from tensorflow-macos==2.13.0->tensorflow) (1.15.0)\n",
      "Requirement already satisfied: grpcio<2.0,>=1.24.3 in /Library/Frameworks/Python.framework/Versions/3.10/lib/python3.10/site-packages (from tensorflow-macos==2.13.0->tensorflow) (1.58.0)\n",
      "Requirement already satisfied: tensorboard<2.14,>=2.13 in /Library/Frameworks/Python.framework/Versions/3.10/lib/python3.10/site-packages (from tensorflow-macos==2.13.0->tensorflow) (2.13.0)\n",
      "Requirement already satisfied: tensorflow-estimator<2.14,>=2.13.0 in /Library/Frameworks/Python.framework/Versions/3.10/lib/python3.10/site-packages (from tensorflow-macos==2.13.0->tensorflow) (2.13.0)\n",
      "Requirement already satisfied: keras<2.14,>=2.13.1 in /Library/Frameworks/Python.framework/Versions/3.10/lib/python3.10/site-packages (from tensorflow-macos==2.13.0->tensorflow) (2.13.1)\n",
      "Requirement already satisfied: wheel<1.0,>=0.23.0 in /Library/Frameworks/Python.framework/Versions/3.10/lib/python3.10/site-packages (from astunparse>=1.6.0->tensorflow-macos==2.13.0->tensorflow) (0.38.4)\n",
      "Requirement already satisfied: google-auth<3,>=1.6.3 in /Library/Frameworks/Python.framework/Versions/3.10/lib/python3.10/site-packages (from tensorboard<2.14,>=2.13->tensorflow-macos==2.13.0->tensorflow) (2.23.0)\n",
      "Requirement already satisfied: google-auth-oauthlib<1.1,>=0.5 in /Library/Frameworks/Python.framework/Versions/3.10/lib/python3.10/site-packages (from tensorboard<2.14,>=2.13->tensorflow-macos==2.13.0->tensorflow) (1.0.0)\n",
      "Requirement already satisfied: markdown>=2.6.8 in /Library/Frameworks/Python.framework/Versions/3.10/lib/python3.10/site-packages (from tensorboard<2.14,>=2.13->tensorflow-macos==2.13.0->tensorflow) (3.4.4)\n",
      "Requirement already satisfied: requests<3,>=2.21.0 in /Library/Frameworks/Python.framework/Versions/3.10/lib/python3.10/site-packages (from tensorboard<2.14,>=2.13->tensorflow-macos==2.13.0->tensorflow) (2.28.2)\n",
      "Requirement already satisfied: tensorboard-data-server<0.8.0,>=0.7.0 in /Library/Frameworks/Python.framework/Versions/3.10/lib/python3.10/site-packages (from tensorboard<2.14,>=2.13->tensorflow-macos==2.13.0->tensorflow) (0.7.1)\n",
      "Requirement already satisfied: werkzeug>=1.0.1 in /Library/Frameworks/Python.framework/Versions/3.10/lib/python3.10/site-packages (from tensorboard<2.14,>=2.13->tensorflow-macos==2.13.0->tensorflow) (2.3.7)\n",
      "Requirement already satisfied: cachetools<6.0,>=2.0.0 in /Library/Frameworks/Python.framework/Versions/3.10/lib/python3.10/site-packages (from google-auth<3,>=1.6.3->tensorboard<2.14,>=2.13->tensorflow-macos==2.13.0->tensorflow) (5.3.0)\n",
      "Requirement already satisfied: pyasn1-modules>=0.2.1 in /Library/Frameworks/Python.framework/Versions/3.10/lib/python3.10/site-packages (from google-auth<3,>=1.6.3->tensorboard<2.14,>=2.13->tensorflow-macos==2.13.0->tensorflow) (0.3.0)\n",
      "Requirement already satisfied: rsa<5,>=3.1.4 in /Library/Frameworks/Python.framework/Versions/3.10/lib/python3.10/site-packages (from google-auth<3,>=1.6.3->tensorboard<2.14,>=2.13->tensorflow-macos==2.13.0->tensorflow) (4.9)\n",
      "Requirement already satisfied: urllib3<2.0 in /Library/Frameworks/Python.framework/Versions/3.10/lib/python3.10/site-packages (from google-auth<3,>=1.6.3->tensorboard<2.14,>=2.13->tensorflow-macos==2.13.0->tensorflow) (1.26.14)\n",
      "Requirement already satisfied: requests-oauthlib>=0.7.0 in /Library/Frameworks/Python.framework/Versions/3.10/lib/python3.10/site-packages (from google-auth-oauthlib<1.1,>=0.5->tensorboard<2.14,>=2.13->tensorflow-macos==2.13.0->tensorflow) (1.3.1)\n",
      "Requirement already satisfied: charset-normalizer<4,>=2 in /Library/Frameworks/Python.framework/Versions/3.10/lib/python3.10/site-packages (from requests<3,>=2.21.0->tensorboard<2.14,>=2.13->tensorflow-macos==2.13.0->tensorflow) (3.0.1)\n",
      "Requirement already satisfied: idna<4,>=2.5 in /Library/Frameworks/Python.framework/Versions/3.10/lib/python3.10/site-packages (from requests<3,>=2.21.0->tensorboard<2.14,>=2.13->tensorflow-macos==2.13.0->tensorflow) (3.4)\n",
      "Requirement already satisfied: certifi>=2017.4.17 in /Library/Frameworks/Python.framework/Versions/3.10/lib/python3.10/site-packages (from requests<3,>=2.21.0->tensorboard<2.14,>=2.13->tensorflow-macos==2.13.0->tensorflow) (2022.12.7)\n",
      "Requirement already satisfied: MarkupSafe>=2.1.1 in /Library/Frameworks/Python.framework/Versions/3.10/lib/python3.10/site-packages (from werkzeug>=1.0.1->tensorboard<2.14,>=2.13->tensorflow-macos==2.13.0->tensorflow) (2.1.2)\n",
      "Requirement already satisfied: pyasn1<0.6.0,>=0.4.6 in /Library/Frameworks/Python.framework/Versions/3.10/lib/python3.10/site-packages (from pyasn1-modules>=0.2.1->google-auth<3,>=1.6.3->tensorboard<2.14,>=2.13->tensorflow-macos==2.13.0->tensorflow) (0.5.0)\n",
      "Requirement already satisfied: oauthlib>=3.0.0 in /Library/Frameworks/Python.framework/Versions/3.10/lib/python3.10/site-packages (from requests-oauthlib>=0.7.0->google-auth-oauthlib<1.1,>=0.5->tensorboard<2.14,>=2.13->tensorflow-macos==2.13.0->tensorflow) (3.2.2)\n"
     ]
    }
   ],
   "source": [
    "!python3 -m pip install tensorflow"
   ]
  },
  {
   "cell_type": "code",
   "execution_count": 5,
   "metadata": {},
   "outputs": [
    {
     "data": {
      "text/plain": [
       "'2.13.0'"
      ]
     },
     "execution_count": 5,
     "metadata": {},
     "output_type": "execute_result"
    }
   ],
   "source": [
    "import tensorflow as tf\n",
    "from tensorflow import keras\n",
    "\n",
    "tf.__version__"
   ]
  },
  {
   "cell_type": "markdown",
   "metadata": {},
   "source": [
    "### 10.2.2 시퀀셜 API를 사용하여 이미지 분류기 만들기"
   ]
  },
  {
   "cell_type": "code",
   "execution_count": 6,
   "metadata": {},
   "outputs": [],
   "source": [
    "import ssl\n",
    "ssl._create_default_https_context = ssl._create_unverified_context"
   ]
  },
  {
   "cell_type": "code",
   "execution_count": 7,
   "metadata": {},
   "outputs": [],
   "source": [
    "fashion_mnist = keras.datasets.fashion_mnist\n",
    "(X_train_full, y_train_full), (X_test, y_test) = fashion_mnist.load_data()"
   ]
  },
  {
   "cell_type": "code",
   "execution_count": 8,
   "metadata": {},
   "outputs": [
    {
     "data": {
      "text/plain": [
       "(60000, 28, 28)"
      ]
     },
     "execution_count": 8,
     "metadata": {},
     "output_type": "execute_result"
    }
   ],
   "source": [
    "X_train_full.shape"
   ]
  },
  {
   "cell_type": "code",
   "execution_count": 9,
   "metadata": {},
   "outputs": [
    {
     "data": {
      "text/plain": [
       "dtype('uint8')"
      ]
     },
     "execution_count": 9,
     "metadata": {},
     "output_type": "execute_result"
    }
   ],
   "source": [
    "X_train_full.dtype"
   ]
  },
  {
   "cell_type": "code",
   "execution_count": 10,
   "metadata": {},
   "outputs": [],
   "source": [
    "X_valid, X_train = X_train_full[:5000] / 255.0, X_train_full[5000:] / 255.0\n",
    "y_valid, y_train = y_train_full[:5000], y_train_full[5000:]\n",
    "X_test = X_test / 255.0"
   ]
  },
  {
   "cell_type": "code",
   "execution_count": 11,
   "metadata": {},
   "outputs": [],
   "source": [
    "class_names = [\"T-shirt/top\", \"Trouser\", \"Pullover\", \"Dress\", \"Coat\", \"Sandal\", \"Shirt\", \"Sneaker\", \"Bag\", \"Ankle boot\"]"
   ]
  },
  {
   "cell_type": "code",
   "execution_count": 12,
   "metadata": {},
   "outputs": [
    {
     "data": {
      "text/plain": [
       "'Coat'"
      ]
     },
     "execution_count": 12,
     "metadata": {},
     "output_type": "execute_result"
    }
   ],
   "source": [
    "class_names[y_train[0]]"
   ]
  },
  {
   "cell_type": "code",
   "execution_count": 13,
   "metadata": {},
   "outputs": [],
   "source": [
    "model = keras.models.Sequential()\n",
    "model.add(keras.layers.Flatten(input_shape=[28, 28]))\n",
    "model.add(keras.layers.Dense(300, activation='relu'))\n",
    "model.add(keras.layers.Dense(100, activation='relu'))\n",
    "model.add(keras.layers.Dense(10, activation='softmax'))"
   ]
  },
  {
   "cell_type": "code",
   "execution_count": 14,
   "metadata": {},
   "outputs": [],
   "source": [
    "model = keras.models.Sequential([\n",
    "    keras.layers.Flatten(input_shape=[28, 28]),\n",
    "    keras.layers.Dense(300, activation='relu'),\n",
    "    keras.layers.Dense(100, activation='relu'),\n",
    "    keras.layers.Dense(10, activation='softmax')\n",
    "])"
   ]
  },
  {
   "cell_type": "code",
   "execution_count": 15,
   "metadata": {},
   "outputs": [
    {
     "name": "stdout",
     "output_type": "stream",
     "text": [
      "Model: \"sequential_1\"\n",
      "_________________________________________________________________\n",
      " Layer (type)                Output Shape              Param #   \n",
      "=================================================================\n",
      " flatten_1 (Flatten)         (None, 784)               0         \n",
      "                                                                 \n",
      " dense_3 (Dense)             (None, 300)               235500    \n",
      "                                                                 \n",
      " dense_4 (Dense)             (None, 100)               30100     \n",
      "                                                                 \n",
      " dense_5 (Dense)             (None, 10)                1010      \n",
      "                                                                 \n",
      "=================================================================\n",
      "Total params: 266610 (1.02 MB)\n",
      "Trainable params: 266610 (1.02 MB)\n",
      "Non-trainable params: 0 (0.00 Byte)\n",
      "_________________________________________________________________\n"
     ]
    }
   ],
   "source": [
    "model.summary()"
   ]
  },
  {
   "cell_type": "code",
   "execution_count": 16,
   "metadata": {},
   "outputs": [
    {
     "data": {
      "text/plain": [
       "[<keras.src.layers.reshaping.flatten.Flatten at 0x2935b3d90>,\n",
       " <keras.src.layers.core.dense.Dense at 0x292573850>,\n",
       " <keras.src.layers.core.dense.Dense at 0x292573eb0>,\n",
       " <keras.src.layers.core.dense.Dense at 0x2925737c0>]"
      ]
     },
     "execution_count": 16,
     "metadata": {},
     "output_type": "execute_result"
    }
   ],
   "source": [
    "model.layers"
   ]
  },
  {
   "cell_type": "code",
   "execution_count": 17,
   "metadata": {},
   "outputs": [
    {
     "data": {
      "text/plain": [
       "'dense_3'"
      ]
     },
     "execution_count": 17,
     "metadata": {},
     "output_type": "execute_result"
    }
   ],
   "source": [
    "hidden1 = model.layers[1]\n",
    "hidden1.name"
   ]
  },
  {
   "cell_type": "code",
   "execution_count": 18,
   "metadata": {},
   "outputs": [
    {
     "data": {
      "text/plain": [
       "False"
      ]
     },
     "execution_count": 18,
     "metadata": {},
     "output_type": "execute_result"
    }
   ],
   "source": [
    "model.get_layer('dense_4') is hidden1"
   ]
  },
  {
   "cell_type": "code",
   "execution_count": 19,
   "metadata": {},
   "outputs": [
    {
     "data": {
      "text/plain": [
       "array([[ 0.07069956,  0.02851167, -0.07412583, ..., -0.04584723,\n",
       "         0.04795287, -0.03125305],\n",
       "       [ 0.03678269, -0.01054567, -0.03338179, ...,  0.05706964,\n",
       "        -0.064698  ,  0.04331894],\n",
       "       [ 0.03103479, -0.02975034, -0.00388635, ..., -0.01207769,\n",
       "        -0.0096683 ,  0.045645  ],\n",
       "       ...,\n",
       "       [ 0.01386178,  0.01302388, -0.07073557, ..., -0.03146289,\n",
       "         0.03631281, -0.05941225],\n",
       "       [ 0.04418054,  0.02033311, -0.01565163, ...,  0.06917742,\n",
       "         0.04748305,  0.04221424],\n",
       "       [-0.01652324,  0.05316241, -0.01560773, ...,  0.04923777,\n",
       "        -0.03417987,  0.06897636]], dtype=float32)"
      ]
     },
     "execution_count": 19,
     "metadata": {},
     "output_type": "execute_result"
    }
   ],
   "source": [
    "weights, biases = hidden1.get_weights()\n",
    "weights"
   ]
  },
  {
   "cell_type": "code",
   "execution_count": 20,
   "metadata": {},
   "outputs": [
    {
     "data": {
      "text/plain": [
       "(784, 300)"
      ]
     },
     "execution_count": 20,
     "metadata": {},
     "output_type": "execute_result"
    }
   ],
   "source": [
    "weights.shape"
   ]
  },
  {
   "cell_type": "code",
   "execution_count": 21,
   "metadata": {},
   "outputs": [
    {
     "data": {
      "text/plain": [
       "array([0., 0., 0., 0., 0., 0., 0., 0., 0., 0., 0., 0., 0., 0., 0., 0., 0.,\n",
       "       0., 0., 0., 0., 0., 0., 0., 0., 0., 0., 0., 0., 0., 0., 0., 0., 0.,\n",
       "       0., 0., 0., 0., 0., 0., 0., 0., 0., 0., 0., 0., 0., 0., 0., 0., 0.,\n",
       "       0., 0., 0., 0., 0., 0., 0., 0., 0., 0., 0., 0., 0., 0., 0., 0., 0.,\n",
       "       0., 0., 0., 0., 0., 0., 0., 0., 0., 0., 0., 0., 0., 0., 0., 0., 0.,\n",
       "       0., 0., 0., 0., 0., 0., 0., 0., 0., 0., 0., 0., 0., 0., 0., 0., 0.,\n",
       "       0., 0., 0., 0., 0., 0., 0., 0., 0., 0., 0., 0., 0., 0., 0., 0., 0.,\n",
       "       0., 0., 0., 0., 0., 0., 0., 0., 0., 0., 0., 0., 0., 0., 0., 0., 0.,\n",
       "       0., 0., 0., 0., 0., 0., 0., 0., 0., 0., 0., 0., 0., 0., 0., 0., 0.,\n",
       "       0., 0., 0., 0., 0., 0., 0., 0., 0., 0., 0., 0., 0., 0., 0., 0., 0.,\n",
       "       0., 0., 0., 0., 0., 0., 0., 0., 0., 0., 0., 0., 0., 0., 0., 0., 0.,\n",
       "       0., 0., 0., 0., 0., 0., 0., 0., 0., 0., 0., 0., 0., 0., 0., 0., 0.,\n",
       "       0., 0., 0., 0., 0., 0., 0., 0., 0., 0., 0., 0., 0., 0., 0., 0., 0.,\n",
       "       0., 0., 0., 0., 0., 0., 0., 0., 0., 0., 0., 0., 0., 0., 0., 0., 0.,\n",
       "       0., 0., 0., 0., 0., 0., 0., 0., 0., 0., 0., 0., 0., 0., 0., 0., 0.,\n",
       "       0., 0., 0., 0., 0., 0., 0., 0., 0., 0., 0., 0., 0., 0., 0., 0., 0.,\n",
       "       0., 0., 0., 0., 0., 0., 0., 0., 0., 0., 0., 0., 0., 0., 0., 0., 0.,\n",
       "       0., 0., 0., 0., 0., 0., 0., 0., 0., 0., 0.], dtype=float32)"
      ]
     },
     "execution_count": 21,
     "metadata": {},
     "output_type": "execute_result"
    }
   ],
   "source": [
    "biases"
   ]
  },
  {
   "cell_type": "code",
   "execution_count": 22,
   "metadata": {},
   "outputs": [
    {
     "data": {
      "text/plain": [
       "(300,)"
      ]
     },
     "execution_count": 22,
     "metadata": {},
     "output_type": "execute_result"
    }
   ],
   "source": [
    "biases.shape"
   ]
  },
  {
   "cell_type": "code",
   "execution_count": 23,
   "metadata": {},
   "outputs": [],
   "source": [
    "model.compile(loss = 'sparse_categorical_crossentropy',\n",
    "              optimizer='sgd',\n",
    "              metrics=['accuracy'])"
   ]
  },
  {
   "cell_type": "code",
   "execution_count": 24,
   "metadata": {},
   "outputs": [
    {
     "name": "stdout",
     "output_type": "stream",
     "text": [
      "Epoch 1/30\n",
      "1719/1719 [==============================] - 2s 1ms/step - loss: 0.7069 - accuracy: 0.7668 - val_loss: 0.5000 - val_accuracy: 0.8358\n",
      "Epoch 2/30\n",
      "1719/1719 [==============================] - 1s 861us/step - loss: 0.4863 - accuracy: 0.8302 - val_loss: 0.4803 - val_accuracy: 0.8274\n",
      "Epoch 3/30\n",
      "1719/1719 [==============================] - 1s 812us/step - loss: 0.4396 - accuracy: 0.8453 - val_loss: 0.4230 - val_accuracy: 0.8548\n",
      "Epoch 4/30\n",
      "1719/1719 [==============================] - 2s 874us/step - loss: 0.4109 - accuracy: 0.8557 - val_loss: 0.4026 - val_accuracy: 0.8618\n",
      "Epoch 5/30\n",
      "1719/1719 [==============================] - 2s 907us/step - loss: 0.3917 - accuracy: 0.8624 - val_loss: 0.3785 - val_accuracy: 0.8672\n",
      "Epoch 6/30\n",
      "1719/1719 [==============================] - 2s 890us/step - loss: 0.3762 - accuracy: 0.8672 - val_loss: 0.3870 - val_accuracy: 0.8636\n",
      "Epoch 7/30\n",
      "1719/1719 [==============================] - 2s 1ms/step - loss: 0.3631 - accuracy: 0.8714 - val_loss: 0.3506 - val_accuracy: 0.8798\n",
      "Epoch 8/30\n",
      "1719/1719 [==============================] - 2s 1ms/step - loss: 0.3516 - accuracy: 0.8764 - val_loss: 0.3620 - val_accuracy: 0.8738\n",
      "Epoch 9/30\n",
      "1719/1719 [==============================] - 2s 1ms/step - loss: 0.3414 - accuracy: 0.8793 - val_loss: 0.3436 - val_accuracy: 0.8790\n",
      "Epoch 10/30\n",
      "1719/1719 [==============================] - 2s 988us/step - loss: 0.3334 - accuracy: 0.8811 - val_loss: 0.3426 - val_accuracy: 0.8758\n",
      "Epoch 11/30\n",
      "1719/1719 [==============================] - 2s 944us/step - loss: 0.3240 - accuracy: 0.8838 - val_loss: 0.3471 - val_accuracy: 0.8800\n",
      "Epoch 12/30\n",
      "1719/1719 [==============================] - 2s 1ms/step - loss: 0.3177 - accuracy: 0.8865 - val_loss: 0.3590 - val_accuracy: 0.8692\n",
      "Epoch 13/30\n",
      "1719/1719 [==============================] - 2s 958us/step - loss: 0.3105 - accuracy: 0.8888 - val_loss: 0.3364 - val_accuracy: 0.8800\n",
      "Epoch 14/30\n",
      "1719/1719 [==============================] - 2s 969us/step - loss: 0.3033 - accuracy: 0.8909 - val_loss: 0.3208 - val_accuracy: 0.8870\n",
      "Epoch 15/30\n",
      "1719/1719 [==============================] - 2s 948us/step - loss: 0.2966 - accuracy: 0.8932 - val_loss: 0.3181 - val_accuracy: 0.8862\n",
      "Epoch 16/30\n",
      "1719/1719 [==============================] - 2s 1ms/step - loss: 0.2914 - accuracy: 0.8955 - val_loss: 0.3123 - val_accuracy: 0.8870\n",
      "Epoch 17/30\n",
      "1719/1719 [==============================] - 2s 961us/step - loss: 0.2857 - accuracy: 0.8979 - val_loss: 0.3094 - val_accuracy: 0.8860\n",
      "Epoch 18/30\n",
      "1719/1719 [==============================] - 2s 901us/step - loss: 0.2809 - accuracy: 0.8987 - val_loss: 0.3205 - val_accuracy: 0.8866\n",
      "Epoch 19/30\n",
      "1719/1719 [==============================] - 2s 1ms/step - loss: 0.2750 - accuracy: 0.9016 - val_loss: 0.3269 - val_accuracy: 0.8820\n",
      "Epoch 20/30\n",
      "1719/1719 [==============================] - 2s 1ms/step - loss: 0.2695 - accuracy: 0.9025 - val_loss: 0.3031 - val_accuracy: 0.8888\n",
      "Epoch 21/30\n",
      "1719/1719 [==============================] - 2s 961us/step - loss: 0.2647 - accuracy: 0.9037 - val_loss: 0.2981 - val_accuracy: 0.8914\n",
      "Epoch 22/30\n",
      "1719/1719 [==============================] - 2s 958us/step - loss: 0.2613 - accuracy: 0.9046 - val_loss: 0.3135 - val_accuracy: 0.8864\n",
      "Epoch 23/30\n",
      "1719/1719 [==============================] - 2s 930us/step - loss: 0.2575 - accuracy: 0.9065 - val_loss: 0.2952 - val_accuracy: 0.8946\n",
      "Epoch 24/30\n",
      "1719/1719 [==============================] - 2s 965us/step - loss: 0.2513 - accuracy: 0.9087 - val_loss: 0.2943 - val_accuracy: 0.8936\n",
      "Epoch 25/30\n",
      "1719/1719 [==============================] - 2s 1ms/step - loss: 0.2482 - accuracy: 0.9096 - val_loss: 0.3024 - val_accuracy: 0.8880\n",
      "Epoch 26/30\n",
      "1719/1719 [==============================] - 2s 1ms/step - loss: 0.2442 - accuracy: 0.9118 - val_loss: 0.3036 - val_accuracy: 0.8920\n",
      "Epoch 27/30\n",
      "1719/1719 [==============================] - 2s 1ms/step - loss: 0.2400 - accuracy: 0.9130 - val_loss: 0.2921 - val_accuracy: 0.8922\n",
      "Epoch 28/30\n",
      "1719/1719 [==============================] - 2s 995us/step - loss: 0.2362 - accuracy: 0.9149 - val_loss: 0.2930 - val_accuracy: 0.8924\n",
      "Epoch 29/30\n",
      "1719/1719 [==============================] - 1s 833us/step - loss: 0.2322 - accuracy: 0.9159 - val_loss: 0.2907 - val_accuracy: 0.8956\n",
      "Epoch 30/30\n",
      "1719/1719 [==============================] - 1s 821us/step - loss: 0.2293 - accuracy: 0.9176 - val_loss: 0.3055 - val_accuracy: 0.8894\n"
     ]
    }
   ],
   "source": [
    "history = model.fit(X_train, y_train, epochs=30, validation_data=(X_valid, y_valid))"
   ]
  },
  {
   "cell_type": "code",
   "execution_count": 25,
   "metadata": {},
   "outputs": [
    {
     "data": {
      "image/png": "[encoded data removed]",
      "text/plain": [
       "<Figure size 800x500 with 1 Axes>"
      ]
     },
     "metadata": {},
     "output_type": "display_data"
    }
   ],
   "source": [
    "import pandas as pd\n",
    "import matplotlib.pyplot as plt\n",
    "\n",
    "pd.DataFrame(history.history).plot(figsize=(8, 5))\n",
    "plt.grid(True)\n",
    "plt.gca().set_ylim(0, 1)\n",
    "plt.show()"
   ]
  },
  {
   "cell_type": "code",
   "execution_count": 26,
   "metadata": {},
   "outputs": [
    {
     "name": "stdout",
     "output_type": "stream",
     "text": [
      "313/313 [==============================] - 0s 513us/step - loss: 0.3376 - accuracy: 0.8812\n"
     ]
    },
    {
     "data": {
      "text/plain": [
       "[0.337621808052063, 0.8812000155448914]"
      ]
     },
     "execution_count": 26,
     "metadata": {},
     "output_type": "execute_result"
    }
   ],
   "source": [
    "model.evaluate(X_test, y_test)"
   ]
  },
  {
   "cell_type": "code",
   "execution_count": 27,
   "metadata": {},
   "outputs": [
    {
     "name": "stdout",
     "output_type": "stream",
     "text": [
      "1/1 [==============================] - 0s 94ms/step\n"
     ]
    },
    {
     "data": {
      "text/plain": [
       "array([[0.  , 0.  , 0.  , 0.  , 0.  , 0.  , 0.  , 0.01, 0.  , 0.98],\n",
       "       [0.  , 0.  , 1.  , 0.  , 0.  , 0.  , 0.  , 0.  , 0.  , 0.  ],\n",
       "       [0.  , 1.  , 0.  , 0.  , 0.  , 0.  , 0.  , 0.  , 0.  , 0.  ]],\n",
       "      dtype=float32)"
      ]
     },
     "execution_count": 27,
     "metadata": {},
     "output_type": "execute_result"
    }
   ],
   "source": [
    "X_new = X_test[:3]\n",
    "y_proba = model.predict(X_new)\n",
    "y_proba.round(2)"
   ]
  },
  {
   "cell_type": "code",
   "execution_count": 28,
   "metadata": {},
   "outputs": [
    {
     "data": {
      "text/plain": [
       "array([9, 2, 1])"
      ]
     },
     "execution_count": 28,
     "metadata": {},
     "output_type": "execute_result"
    }
   ],
   "source": [
    "y_pred = y_proba.argmax(axis=-1)\n",
    "y_pred"
   ]
  },
  {
   "cell_type": "code",
   "execution_count": 29,
   "metadata": {},
   "outputs": [
    {
     "data": {
      "text/plain": [
       "array(['Ankle boot', 'Pullover', 'Trouser'], dtype='<U11')"
      ]
     },
     "execution_count": 29,
     "metadata": {},
     "output_type": "execute_result"
    }
   ],
   "source": [
    "np.array(class_names)[y_pred]"
   ]
  },
  {
   "cell_type": "code",
   "execution_count": 30,
   "metadata": {},
   "outputs": [
    {
     "data": {
      "text/plain": [
       "array([9, 2, 1], dtype=uint8)"
      ]
     },
     "execution_count": 30,
     "metadata": {},
     "output_type": "execute_result"
    }
   ],
   "source": [
    "y_new = y_test[:3]\n",
    "y_new"
   ]
  },
  {
   "cell_type": "markdown",
   "metadata": {},
   "source": [
    "### 10.2.3 시퀀셜 API를 사용하여 회귀용 다층 퍼셉트론 만들기"
   ]
  },
  {
   "cell_type": "code",
   "execution_count": 31,
   "metadata": {},
   "outputs": [],
   "source": [
    "from sklearn.datasets import fetch_california_housing\n",
    "from sklearn.model_selection import train_test_split\n",
    "from sklearn.preprocessing import StandardScaler\n",
    "\n",
    "housing = fetch_california_housing()\n",
    "\n",
    "X_train_full, X_test, y_train_full, y_test = train_test_split(housing.data, housing.target)\n",
    "X_train, X_valid, y_train, y_valid = train_test_split(X_train_full, y_train_full)\n",
    "\n",
    "scaler = StandardScaler()\n",
    "X_train = scaler.fit_transform(X_train)\n",
    "X_valid = scaler.transform(X_valid)\n",
    "X_test = scaler.transform(X_test)"
   ]
  },
  {
   "cell_type": "code",
   "execution_count": 32,
   "metadata": {},
   "outputs": [
    {
     "name": "stdout",
     "output_type": "stream",
     "text": [
      "Epoch 1/20\n",
      "363/363 [==============================] - 0s 605us/step - loss: 0.8206 - val_loss: 0.5775\n",
      "Epoch 2/20\n",
      "363/363 [==============================] - 0s 486us/step - loss: 0.6710 - val_loss: 0.4500\n",
      "Epoch 3/20\n",
      "363/363 [==============================] - 0s 436us/step - loss: 0.4791 - val_loss: 0.4319\n",
      "Epoch 4/20\n",
      "363/363 [==============================] - 0s 402us/step - loss: 0.4615 - val_loss: 0.4206\n",
      "Epoch 5/20\n",
      "363/363 [==============================] - 0s 411us/step - loss: 0.4475 - val_loss: 0.4105\n",
      "Epoch 6/20\n",
      "363/363 [==============================] - 0s 429us/step - loss: 0.4383 - val_loss: 0.4068\n",
      "Epoch 7/20\n",
      "363/363 [==============================] - 0s 823us/step - loss: 0.4298 - val_loss: 0.4025\n",
      "Epoch 8/20\n",
      "363/363 [==============================] - 0s 781us/step - loss: 0.4233 - val_loss: 0.3961\n",
      "Epoch 9/20\n",
      "363/363 [==============================] - 0s 582us/step - loss: 0.4159 - val_loss: 0.3889\n",
      "Epoch 10/20\n",
      "363/363 [==============================] - 0s 676us/step - loss: 0.4097 - val_loss: 0.3855\n",
      "Epoch 11/20\n",
      "363/363 [==============================] - 0s 759us/step - loss: 0.4048 - val_loss: 0.3843\n",
      "Epoch 12/20\n",
      "363/363 [==============================] - 0s 424us/step - loss: 0.4002 - val_loss: 0.3787\n",
      "Epoch 13/20\n",
      "363/363 [==============================] - 0s 459us/step - loss: 0.3951 - val_loss: 0.3764\n",
      "Epoch 14/20\n",
      "363/363 [==============================] - 0s 388us/step - loss: 0.3912 - val_loss: 0.3726\n",
      "Epoch 15/20\n",
      "363/363 [==============================] - 0s 677us/step - loss: 0.3881 - val_loss: 0.3721\n",
      "Epoch 16/20\n",
      "363/363 [==============================] - 0s 433us/step - loss: 0.3845 - val_loss: 0.3643\n",
      "Epoch 17/20\n",
      "363/363 [==============================] - 0s 444us/step - loss: 0.3893 - val_loss: 0.3650\n",
      "Epoch 18/20\n",
      "363/363 [==============================] - 0s 625us/step - loss: 0.3795 - val_loss: 0.3660\n",
      "Epoch 19/20\n",
      "363/363 [==============================] - 0s 445us/step - loss: 0.3774 - val_loss: 0.3634\n",
      "Epoch 20/20\n",
      "363/363 [==============================] - 0s 404us/step - loss: 0.3742 - val_loss: 0.3568\n",
      "162/162 [==============================] - 0s 252us/step - loss: 0.3852\n",
      "1/1 [==============================] - 0s 23ms/step\n"
     ]
    }
   ],
   "source": [
    "model = keras.models.Sequential([\n",
    "    keras.layers.Dense(30, activation='relu', input_shape=X_train.shape[1:]),\n",
    "    keras.layers.Dense(1)\n",
    "])\n",
    "model.compile(loss='mean_squared_error', optimizer='sgd')\n",
    "history = model.fit(X_train, y_train, epochs=20, validation_data=(X_valid, y_valid))\n",
    "mse_test = model.evaluate(X_test, y_test)\n",
    "X_new = X_test[:3]\n",
    "y_pred = model.predict(X_new)"
   ]
  },
  {
   "cell_type": "code",
   "execution_count": 33,
   "metadata": {},
   "outputs": [
    {
     "data": {
      "text/plain": [
       "0.3851504921913147"
      ]
     },
     "execution_count": 33,
     "metadata": {},
     "output_type": "execute_result"
    }
   ],
   "source": [
    "mse_test"
   ]
  },
  {
   "cell_type": "code",
   "execution_count": 34,
   "metadata": {},
   "outputs": [
    {
     "data": {
      "text/plain": [
       "array([[0.90019023],\n",
       "       [0.8040142 ],\n",
       "       [2.1368122 ]], dtype=float32)"
      ]
     },
     "execution_count": 34,
     "metadata": {},
     "output_type": "execute_result"
    }
   ],
   "source": [
    "y_pred"
   ]
  },
  {
   "cell_type": "markdown",
   "metadata": {},
   "source": [
    "### 10.2.4 함수형 API를 사용해 복잡한 모델 만들기"
   ]
  },
  {
   "cell_type": "code",
   "execution_count": 35,
   "metadata": {},
   "outputs": [],
   "source": [
    "input_ = keras.layers.Input(shape=X_train.shape[1:])\n",
    "hidden1 = keras.layers.Dense(30, activation='relu')(input_)\n",
    "hidden2 = keras.layers.Dense(30, activation='relu')(hidden1)\n",
    "concat = keras.layers.Concatenate()([input_, hidden2])\n",
    "output = keras.layers.Dense(1)(concat)\n",
    "model = keras.Model(inputs=[input_], outputs = [output])"
   ]
  },
  {
   "cell_type": "code",
   "execution_count": 37,
   "metadata": {},
   "outputs": [],
   "source": [
    "input_A = keras.layers.Input(shape=[5], name='wide_input')\n",
    "input_B = keras.layers.Input(shape=[6], name='deep_input')\n",
    "hidden1 = keras.layers.Dense(30, activation='relu')(input_B)\n",
    "hidden2 = keras.layers.Dense(30, activation='relu')(hidden1)\n",
    "concat = keras.layers.concatenate([input_A, hidden2])\n",
    "output = keras.layers.Dense(1, name='output')(concat)\n",
    "model = keras.Model(inputs = [input_A, input_B], outputs=[output])"
   ]
  },
  {
   "cell_type": "code",
   "execution_count": 39,
   "metadata": {},
   "outputs": [
    {
     "name": "stderr",
     "output_type": "stream",
     "text": [
      "WARNING:absl:At this time, the v2.11+ optimizer `tf.keras.optimizers.SGD` runs slowly on M1/M2 Macs, please use the legacy Keras optimizer instead, located at `tf.keras.optimizers.legacy.SGD`.\n",
      "WARNING:absl:`lr` is deprecated in Keras optimizer, please use `learning_rate` or use the legacy optimizer, e.g.,tf.keras.optimizers.legacy.SGD.\n",
      "WARNING:absl:There is a known slowdown when using v2.11+ Keras optimizers on M1/M2 Macs. Falling back to the legacy Keras optimizer, i.e., `tf.keras.optimizers.legacy.SGD`.\n"
     ]
    },
    {
     "name": "stdout",
     "output_type": "stream",
     "text": [
      "Epoch 1/20\n",
      "363/363 [==============================] - 0s 602us/step - loss: 0.8069 - val_loss: 0.5012\n",
      "Epoch 2/20\n",
      "363/363 [==============================] - 0s 423us/step - loss: 0.5147 - val_loss: 0.4506\n",
      "Epoch 3/20\n",
      "363/363 [==============================] - 0s 422us/step - loss: 0.4796 - val_loss: 0.4348\n",
      "Epoch 4/20\n",
      "363/363 [==============================] - 0s 423us/step - loss: 0.4602 - val_loss: 0.4250\n",
      "Epoch 5/20\n",
      "363/363 [==============================] - 0s 421us/step - loss: 0.4483 - val_loss: 0.4098\n",
      "Epoch 6/20\n",
      "363/363 [==============================] - 0s 428us/step - loss: 0.4360 - val_loss: 0.4054\n",
      "Epoch 7/20\n",
      "363/363 [==============================] - 0s 503us/step - loss: 0.4280 - val_loss: 0.4071\n",
      "Epoch 8/20\n",
      "363/363 [==============================] - 0s 432us/step - loss: 0.4204 - val_loss: 0.3871\n",
      "Epoch 9/20\n",
      "363/363 [==============================] - 0s 470us/step - loss: 0.4199 - val_loss: 0.3823\n",
      "Epoch 10/20\n",
      "363/363 [==============================] - 0s 435us/step - loss: 0.4058 - val_loss: 0.3745\n",
      "Epoch 11/20\n",
      "363/363 [==============================] - 0s 530us/step - loss: 0.4053 - val_loss: 0.3710\n",
      "Epoch 12/20\n",
      "363/363 [==============================] - 0s 421us/step - loss: 0.3927 - val_loss: 0.3615\n",
      "Epoch 13/20\n",
      "363/363 [==============================] - 0s 418us/step - loss: 0.3857 - val_loss: 0.3568\n",
      "Epoch 14/20\n",
      "363/363 [==============================] - 0s 421us/step - loss: 0.3791 - val_loss: 0.3540\n",
      "Epoch 15/20\n",
      "363/363 [==============================] - 0s 492us/step - loss: 0.3758 - val_loss: 0.3523\n",
      "Epoch 16/20\n",
      "363/363 [==============================] - 0s 416us/step - loss: 0.3702 - val_loss: 0.3468\n",
      "Epoch 17/20\n",
      "363/363 [==============================] - 0s 415us/step - loss: 0.3648 - val_loss: 0.3439\n",
      "Epoch 18/20\n",
      "363/363 [==============================] - 0s 422us/step - loss: 0.3611 - val_loss: 0.3386\n",
      "Epoch 19/20\n",
      "363/363 [==============================] - 0s 418us/step - loss: 0.3586 - val_loss: 0.3323\n",
      "Epoch 20/20\n",
      "363/363 [==============================] - 0s 424us/step - loss: 0.3569 - val_loss: 0.3375\n",
      "162/162 [==============================] - 0s 297us/step - loss: 0.3656\n",
      "1/1 [==============================] - 0s 27ms/step\n"
     ]
    }
   ],
   "source": [
    "model.compile(loss='mse', optimizer=keras.optimizers.SGD(lr=1e-3))\n",
    "\n",
    "X_train_A, X_train_B = X_train[:, :5], X_train[:, 2:]\n",
    "X_valid_A, X_valid_B = X_valid[:, :5], X_valid[:, 2:]\n",
    "X_test_A, X_test_B = X_test[:, :5], X_test[:, 2:]\n",
    "X_new_A, X_new_B = X_test_A[:3], X_test_B[:3]\n",
    "\n",
    "history = model.fit((X_train_A, X_train_B), y_train, epochs=20, validation_data=((X_valid_A, X_valid_B), y_valid))\n",
    "mse_test = model.evaluate((X_test_A, X_test_B), y_test)\n",
    "y_pred = model.predict((X_new_A, X_new_B))"
   ]
  },
  {
   "cell_type": "code",
   "execution_count": 55,
   "metadata": {},
   "outputs": [],
   "source": [
    "input_A = keras.layers.Input(shape=[5], name='wide_input')\n",
    "input_B = keras.layers.Input(shape=[6], name='deep_input')\n",
    "hidden1 = keras.layers.Dense(30, activation='relu')(input_B)\n",
    "hidden2 = keras.layers.Dense(30, activation='relu')(hidden1)\n",
    "concat = keras.layers.Concatenate()([input_A, hidden2])\n",
    "output = keras.layers.Dense(1, name='main_output')(concat)\n",
    "aux_output = keras.layers.Dense(1, name='aux_output')(hidden2)\n",
    "model = keras.Model(inputs=[input_A, input_B], outputs=[output, aux_output])"
   ]
  },
  {
   "cell_type": "code",
   "execution_count": 57,
   "metadata": {},
   "outputs": [],
   "source": [
    "model.compile(loss=['mse', 'mse'], loss_weights=[0.9, 0.1], optimizer='sgd')"
   ]
  },
  {
   "cell_type": "code",
   "execution_count": 58,
   "metadata": {},
   "outputs": [
    {
     "name": "stdout",
     "output_type": "stream",
     "text": [
      "Epoch 1/20\n",
      "363/363 [==============================] - 1s 759us/step - loss: 0.9908 - main_output_loss: 0.8911 - aux_output_loss: 1.8884 - val_loss: 0.5852 - val_main_output_loss: 0.5270 - val_aux_output_loss: 1.1089\n",
      "Epoch 2/20\n",
      "363/363 [==============================] - 0s 518us/step - loss: 0.5838 - main_output_loss: 0.5340 - aux_output_loss: 1.0322 - val_loss: 0.5223 - val_main_output_loss: 0.4781 - val_aux_output_loss: 0.9206\n",
      "Epoch 3/20\n",
      "363/363 [==============================] - 0s 514us/step - loss: 0.5369 - main_output_loss: 0.4990 - aux_output_loss: 0.8780 - val_loss: 0.4949 - val_main_output_loss: 0.4596 - val_aux_output_loss: 0.8134\n",
      "Epoch 4/20\n",
      "363/363 [==============================] - 0s 527us/step - loss: 0.5113 - main_output_loss: 0.4810 - aux_output_loss: 0.7840 - val_loss: 0.4726 - val_main_output_loss: 0.4428 - val_aux_output_loss: 0.7405\n",
      "Epoch 5/20\n",
      "363/363 [==============================] - 0s 500us/step - loss: 0.4926 - main_output_loss: 0.4665 - aux_output_loss: 0.7273 - val_loss: 0.4626 - val_main_output_loss: 0.4363 - val_aux_output_loss: 0.6987\n",
      "Epoch 6/20\n",
      "363/363 [==============================] - 0s 488us/step - loss: 0.4805 - main_output_loss: 0.4573 - aux_output_loss: 0.6891 - val_loss: 0.4465 - val_main_output_loss: 0.4222 - val_aux_output_loss: 0.6659\n",
      "Epoch 7/20\n",
      "363/363 [==============================] - 0s 496us/step - loss: 0.4697 - main_output_loss: 0.4478 - aux_output_loss: 0.6666 - val_loss: 0.4384 - val_main_output_loss: 0.4160 - val_aux_output_loss: 0.6402\n",
      "Epoch 8/20\n",
      "363/363 [==============================] - 0s 564us/step - loss: 0.4585 - main_output_loss: 0.4380 - aux_output_loss: 0.6435 - val_loss: 0.4329 - val_main_output_loss: 0.4108 - val_aux_output_loss: 0.6319\n",
      "Epoch 9/20\n",
      "363/363 [==============================] - 0s 491us/step - loss: 0.4490 - main_output_loss: 0.4291 - aux_output_loss: 0.6287 - val_loss: 0.4179 - val_main_output_loss: 0.3971 - val_aux_output_loss: 0.6051\n",
      "Epoch 10/20\n",
      "363/363 [==============================] - 0s 507us/step - loss: 0.4522 - main_output_loss: 0.4334 - aux_output_loss: 0.6212 - val_loss: 0.4289 - val_main_output_loss: 0.4101 - val_aux_output_loss: 0.5983\n",
      "Epoch 11/20\n",
      "363/363 [==============================] - 0s 633us/step - loss: 0.4334 - main_output_loss: 0.4148 - aux_output_loss: 0.6009 - val_loss: 0.4047 - val_main_output_loss: 0.3851 - val_aux_output_loss: 0.5809\n",
      "Epoch 12/20\n",
      "363/363 [==============================] - 0s 531us/step - loss: 0.4268 - main_output_loss: 0.4088 - aux_output_loss: 0.5885 - val_loss: 0.4161 - val_main_output_loss: 0.3977 - val_aux_output_loss: 0.5817\n",
      "Epoch 13/20\n",
      "363/363 [==============================] - 0s 498us/step - loss: 0.4233 - main_output_loss: 0.4058 - aux_output_loss: 0.5804 - val_loss: 0.3892 - val_main_output_loss: 0.3705 - val_aux_output_loss: 0.5578\n",
      "Epoch 14/20\n",
      "363/363 [==============================] - 0s 498us/step - loss: 0.4130 - main_output_loss: 0.3959 - aux_output_loss: 0.5664 - val_loss: 0.3934 - val_main_output_loss: 0.3758 - val_aux_output_loss: 0.5522\n",
      "Epoch 15/20\n",
      "363/363 [==============================] - 0s 563us/step - loss: 0.4083 - main_output_loss: 0.3916 - aux_output_loss: 0.5590 - val_loss: 0.3795 - val_main_output_loss: 0.3616 - val_aux_output_loss: 0.5405\n",
      "Epoch 16/20\n",
      "363/363 [==============================] - 0s 501us/step - loss: 0.4047 - main_output_loss: 0.3886 - aux_output_loss: 0.5500 - val_loss: 0.3743 - val_main_output_loss: 0.3570 - val_aux_output_loss: 0.5295\n",
      "Epoch 17/20\n",
      "363/363 [==============================] - 0s 492us/step - loss: 0.3959 - main_output_loss: 0.3798 - aux_output_loss: 0.5404 - val_loss: 0.3767 - val_main_output_loss: 0.3596 - val_aux_output_loss: 0.5310\n",
      "Epoch 18/20\n",
      "363/363 [==============================] - 0s 494us/step - loss: 0.3886 - main_output_loss: 0.3730 - aux_output_loss: 0.5284 - val_loss: 0.3680 - val_main_output_loss: 0.3518 - val_aux_output_loss: 0.5146\n",
      "Epoch 19/20\n",
      "363/363 [==============================] - 0s 491us/step - loss: 0.5674 - main_output_loss: 0.5574 - aux_output_loss: 0.6579 - val_loss: 0.4148 - val_main_output_loss: 0.3924 - val_aux_output_loss: 0.6168\n",
      "Epoch 20/20\n",
      "363/363 [==============================] - 0s 486us/step - loss: 0.4186 - main_output_loss: 0.4015 - aux_output_loss: 0.5726 - val_loss: 0.3958 - val_main_output_loss: 0.3791 - val_aux_output_loss: 0.5458\n"
     ]
    }
   ],
   "source": [
    "history = model.fit([X_train_A, X_train_B], [y_train, y_train], epochs=20, validation_data=([X_valid_A, X_valid_B], [y_valid, y_valid]))"
   ]
  },
  {
   "cell_type": "code",
   "execution_count": 59,
   "metadata": {},
   "outputs": [
    {
     "name": "stdout",
     "output_type": "stream",
     "text": [
      "162/162 [==============================] - 0s 364us/step - loss: 0.4585 - main_output_loss: 0.4432 - aux_output_loss: 0.5959\n"
     ]
    }
   ],
   "source": [
    "total_loss, main_loss, aux_loss = model.evaluate([X_test_A, X_test_B], [y_test, y_test])"
   ]
  },
  {
   "cell_type": "code",
   "execution_count": 60,
   "metadata": {},
   "outputs": [
    {
     "name": "stdout",
     "output_type": "stream",
     "text": [
      "1/1 [==============================] - 0s 36ms/step\n"
     ]
    }
   ],
   "source": [
    "y_pred_main, y_pred_aux = model.predict([X_new_A, X_new_B])"
   ]
  },
  {
   "cell_type": "markdown",
   "metadata": {},
   "source": [
    "### 10.2.5 서브클래싱 API로 동적 모델 만들기"
   ]
  },
  {
   "cell_type": "code",
   "execution_count": 61,
   "metadata": {},
   "outputs": [],
   "source": [
    "class WideAndDeepModel(keras.Model):\n",
    "    def __init__(self, units=30, activation='relu', **kwargs):\n",
    "        super().__init__(**kwargs)\n",
    "        self.hidden1 = keras.layers.Dense(units, activation=activation)\n",
    "        self.hidden2 = keras.layers.Dense(units, activation=activation)\n",
    "        self.main_output = keras.layers.Dense(1)\n",
    "        self.aux_output = keras.layers.Dense(1)\n",
    "\n",
    "    def call(self, inputs):\n",
    "        input_A, input_B = inputs\n",
    "        hidden1 = self.hidden1(input_B)\n",
    "        hidden2 = self.hidden2(hidden1)\n",
    "        concat = keras.layers.concatenate([input_A, hidden2])\n",
    "        main_output = self.main_output(concat)\n",
    "        aux_output = self.aux_output(hidden2)\n",
    "        return main_output, aux_output\n",
    "    \n",
    "model = WideAndDeepModel()"
   ]
  },
  {
   "cell_type": "markdown",
   "metadata": {},
   "source": [
    "### 10.2.6 모델 저장과 복원"
   ]
  },
  {
   "cell_type": "code",
   "execution_count": 77,
   "metadata": {},
   "outputs": [],
   "source": [
    "model = keras.models.Sequential([\n",
    "    keras.layers.Dense(30, activation=\"relu\", input_shape=[8]),\n",
    "    keras.layers.Dense(30, activation=\"relu\"),\n",
    "    keras.layers.Dense(1)\n",
    "])    "
   ]
  },
  {
   "cell_type": "code",
   "execution_count": 78,
   "metadata": {},
   "outputs": [
    {
     "name": "stderr",
     "output_type": "stream",
     "text": [
      "WARNING:absl:At this time, the v2.11+ optimizer `tf.keras.optimizers.SGD` runs slowly on M1/M2 Macs, please use the legacy Keras optimizer instead, located at `tf.keras.optimizers.legacy.SGD`.\n",
      "WARNING:absl:There is a known slowdown when using v2.11+ Keras optimizers on M1/M2 Macs. Falling back to the legacy Keras optimizer, i.e., `tf.keras.optimizers.legacy.SGD`.\n"
     ]
    },
    {
     "name": "stdout",
     "output_type": "stream",
     "text": [
      "Epoch 1/10\n",
      "363/363 [==============================] - 0s 560us/step - loss: 1.6473 - val_loss: 0.9025\n",
      "Epoch 2/10\n",
      "363/363 [==============================] - 0s 414us/step - loss: 0.8752 - val_loss: 0.7491\n",
      "Epoch 3/10\n",
      "363/363 [==============================] - 0s 402us/step - loss: 0.7654 - val_loss: 0.6858\n",
      "Epoch 4/10\n",
      "363/363 [==============================] - 0s 439us/step - loss: 0.7076 - val_loss: 0.6431\n",
      "Epoch 5/10\n",
      "363/363 [==============================] - 0s 534us/step - loss: 0.6658 - val_loss: 0.6086\n",
      "Epoch 6/10\n",
      "363/363 [==============================] - 0s 411us/step - loss: 0.6325 - val_loss: 0.5814\n",
      "Epoch 7/10\n",
      "363/363 [==============================] - 0s 400us/step - loss: 0.6056 - val_loss: 0.5587\n",
      "Epoch 8/10\n",
      "363/363 [==============================] - 0s 402us/step - loss: 0.5840 - val_loss: 0.5401\n",
      "Epoch 9/10\n",
      "363/363 [==============================] - 0s 431us/step - loss: 0.5655 - val_loss: 0.5246\n",
      "Epoch 10/10\n",
      "363/363 [==============================] - 0s 423us/step - loss: 0.5501 - val_loss: 0.5123\n",
      "162/162 [==============================] - 0s 279us/step - loss: 0.5511\n"
     ]
    }
   ],
   "source": [
    "model.compile(loss=\"mse\", optimizer=keras.optimizers.SGD(learning_rate=1e-3))\n",
    "history = model.fit(X_train, y_train, epochs=10, validation_data=(X_valid, y_valid))\n",
    "mse_test = model.evaluate(X_test, y_test)"
   ]
  },
  {
   "cell_type": "code",
   "execution_count": 79,
   "metadata": {},
   "outputs": [
    {
     "name": "stderr",
     "output_type": "stream",
     "text": [
      "/Library/Frameworks/Python.framework/Versions/3.10/lib/python3.10/site-packages/keras/src/engine/training.py:3000: UserWarning: You are saving your model as an HDF5 file via `model.save()`. This file format is considered legacy. We recommend using instead the native Keras format, e.g. `model.save('my_model.keras')`.\n",
      "  saving_api.save_model(\n"
     ]
    }
   ],
   "source": [
    "model.save(\"my_keras_model.h5\")"
   ]
  },
  {
   "cell_type": "code",
   "execution_count": 80,
   "metadata": {},
   "outputs": [],
   "source": [
    "model = keras.models.load_model(\"my_keras_model.h5\")"
   ]
  },
  {
   "cell_type": "markdown",
   "metadata": {},
   "source": [
    "### 10.2.7 콜백 사용하기"
   ]
  },
  {
   "cell_type": "code",
   "execution_count": 81,
   "metadata": {},
   "outputs": [
    {
     "name": "stdout",
     "output_type": "stream",
     "text": [
      "Epoch 1/10\n",
      "363/363 [==============================] - 0s 336us/step - loss: 0.5374\n",
      "Epoch 2/10\n",
      "363/363 [==============================] - 0s 314us/step - loss: 0.5268\n",
      "Epoch 3/10\n",
      "363/363 [==============================] - 0s 321us/step - loss: 0.5173\n",
      "Epoch 4/10\n",
      "363/363 [==============================] - 0s 331us/step - loss: 0.5094\n",
      "Epoch 5/10\n",
      "363/363 [==============================] - 0s 324us/step - loss: 0.5021\n",
      "Epoch 6/10\n",
      "363/363 [==============================] - 0s 312us/step - loss: 0.4959\n",
      "Epoch 7/10\n",
      "363/363 [==============================] - 0s 313us/step - loss: 0.4902\n",
      "Epoch 8/10\n",
      "363/363 [==============================] - 0s 315us/step - loss: 0.4851\n",
      "Epoch 9/10\n",
      "363/363 [==============================] - 0s 389us/step - loss: 0.4808\n",
      "Epoch 10/10\n",
      "363/363 [==============================] - 0s 319us/step - loss: 0.4766\n"
     ]
    }
   ],
   "source": [
    "checkpoint_cb = keras.callbacks.ModelCheckpoint(\"my_keras_model.h5\")\n",
    "history = model.fit(X_train, y_train, epochs=10, callbacks=[checkpoint_cb])"
   ]
  },
  {
   "cell_type": "code",
   "execution_count": 82,
   "metadata": {},
   "outputs": [
    {
     "name": "stdout",
     "output_type": "stream",
     "text": [
      "Epoch 1/10\n",
      "363/363 [==============================] - 0s 647us/step - loss: 0.4728 - val_loss: 0.4449\n",
      "Epoch 2/10\n",
      "309/363 [========================>.....] - ETA: 0s - loss: 0.4714"
     ]
    },
    {
     "name": "stderr",
     "output_type": "stream",
     "text": [
      "/Library/Frameworks/Python.framework/Versions/3.10/lib/python3.10/site-packages/keras/src/engine/training.py:3000: UserWarning: You are saving your model as an HDF5 file via `model.save()`. This file format is considered legacy. We recommend using instead the native Keras format, e.g. `model.save('my_model.keras')`.\n",
      "  saving_api.save_model(\n"
     ]
    },
    {
     "name": "stdout",
     "output_type": "stream",
     "text": [
      "363/363 [==============================] - 0s 787us/step - loss: 0.4692 - val_loss: 0.4418\n",
      "Epoch 3/10\n",
      "363/363 [==============================] - 0s 428us/step - loss: 0.4658 - val_loss: 0.4389\n",
      "Epoch 4/10\n",
      "363/363 [==============================] - 0s 436us/step - loss: 0.4628 - val_loss: 0.4370\n",
      "Epoch 5/10\n",
      "363/363 [==============================] - 0s 419us/step - loss: 0.4601 - val_loss: 0.4348\n",
      "Epoch 6/10\n",
      "363/363 [==============================] - 0s 417us/step - loss: 0.4576 - val_loss: 0.4321\n",
      "Epoch 7/10\n",
      "363/363 [==============================] - 0s 419us/step - loss: 0.4551 - val_loss: 0.4307\n",
      "Epoch 8/10\n",
      "363/363 [==============================] - 0s 428us/step - loss: 0.4527 - val_loss: 0.4294\n",
      "Epoch 9/10\n",
      "363/363 [==============================] - 0s 420us/step - loss: 0.4507 - val_loss: 0.4267\n",
      "Epoch 10/10\n",
      "363/363 [==============================] - 0s 460us/step - loss: 0.4486 - val_loss: 0.4253\n"
     ]
    }
   ],
   "source": [
    "checkpoint_cb = keras.callbacks.ModelCheckpoint(\"my_keras_model.h5\", save_best_only=True)\n",
    "history = model.fit(X_train, y_train, epochs=10, validation_data=(X_valid, y_valid), callbacks=[checkpoint_cb])\n",
    "model = keras.models.load_model(\"my_keras_model.h5\")"
   ]
  },
  {
   "cell_type": "code",
   "execution_count": 83,
   "metadata": {},
   "outputs": [
    {
     "name": "stdout",
     "output_type": "stream",
     "text": [
      "Epoch 1/100\n",
      "363/363 [==============================] - 0s 574us/step - loss: 0.4466 - val_loss: 0.4234\n",
      "Epoch 2/100\n",
      "363/363 [==============================] - 0s 408us/step - loss: 0.4448 - val_loss: 0.4227\n",
      "Epoch 3/100\n",
      "  1/363 [..............................] - ETA: 0s - loss: 0.3646"
     ]
    },
    {
     "name": "stderr",
     "output_type": "stream",
     "text": [
      "/Library/Frameworks/Python.framework/Versions/3.10/lib/python3.10/site-packages/keras/src/engine/training.py:3000: UserWarning: You are saving your model as an HDF5 file via `model.save()`. This file format is considered legacy. We recommend using instead the native Keras format, e.g. `model.save('my_model.keras')`.\n",
      "  saving_api.save_model(\n"
     ]
    },
    {
     "name": "stdout",
     "output_type": "stream",
     "text": [
      "363/363 [==============================] - 0s 528us/step - loss: 0.4427 - val_loss: 0.4204\n",
      "Epoch 4/100\n",
      "363/363 [==============================] - 0s 421us/step - loss: 0.4411 - val_loss: 0.4187\n",
      "Epoch 5/100\n",
      "363/363 [==============================] - 0s 404us/step - loss: 0.4393 - val_loss: 0.4198\n",
      "Epoch 6/100\n",
      "363/363 [==============================] - 0s 412us/step - loss: 0.4377 - val_loss: 0.4167\n",
      "Epoch 7/100\n",
      "363/363 [==============================] - 0s 440us/step - loss: 0.4361 - val_loss: 0.4155\n",
      "Epoch 8/100\n",
      "363/363 [==============================] - 0s 435us/step - loss: 0.4346 - val_loss: 0.4131\n",
      "Epoch 9/100\n",
      "363/363 [==============================] - 0s 437us/step - loss: 0.4328 - val_loss: 0.4120\n",
      "Epoch 10/100\n",
      "363/363 [==============================] - 0s 418us/step - loss: 0.4313 - val_loss: 0.4106\n",
      "Epoch 11/100\n",
      "363/363 [==============================] - 0s 417us/step - loss: 0.4296 - val_loss: 0.4092\n",
      "Epoch 12/100\n",
      "363/363 [==============================] - 0s 481us/step - loss: 0.4282 - val_loss: 0.4093\n",
      "Epoch 13/100\n",
      "363/363 [==============================] - 0s 425us/step - loss: 0.4270 - val_loss: 0.4071\n",
      "Epoch 14/100\n",
      "363/363 [==============================] - 0s 426us/step - loss: 0.4255 - val_loss: 0.4067\n",
      "Epoch 15/100\n",
      "363/363 [==============================] - 0s 526us/step - loss: 0.4239 - val_loss: 0.4044\n",
      "Epoch 16/100\n",
      "363/363 [==============================] - 0s 437us/step - loss: 0.4229 - val_loss: 0.4034\n",
      "Epoch 17/100\n",
      "363/363 [==============================] - 0s 454us/step - loss: 0.4213 - val_loss: 0.4023\n",
      "Epoch 18/100\n",
      "363/363 [==============================] - 0s 418us/step - loss: 0.4196 - val_loss: 0.4006\n",
      "Epoch 19/100\n",
      "363/363 [==============================] - 0s 419us/step - loss: 0.4185 - val_loss: 0.3993\n",
      "Epoch 20/100\n",
      "363/363 [==============================] - 0s 423us/step - loss: 0.4171 - val_loss: 0.3983\n",
      "Epoch 21/100\n",
      "363/363 [==============================] - 0s 410us/step - loss: 0.4156 - val_loss: 0.3974\n",
      "Epoch 22/100\n",
      "363/363 [==============================] - 0s 411us/step - loss: 0.4142 - val_loss: 0.3964\n",
      "Epoch 23/100\n",
      "363/363 [==============================] - 0s 415us/step - loss: 0.4132 - val_loss: 0.3948\n",
      "Epoch 24/100\n",
      "363/363 [==============================] - 0s 418us/step - loss: 0.4119 - val_loss: 0.3949\n",
      "Epoch 25/100\n",
      "363/363 [==============================] - 0s 405us/step - loss: 0.4105 - val_loss: 0.3941\n",
      "Epoch 26/100\n",
      "363/363 [==============================] - 0s 405us/step - loss: 0.4096 - val_loss: 0.3920\n",
      "Epoch 27/100\n",
      "363/363 [==============================] - 0s 405us/step - loss: 0.4082 - val_loss: 0.3911\n",
      "Epoch 28/100\n",
      "363/363 [==============================] - 0s 467us/step - loss: 0.4071 - val_loss: 0.3902\n",
      "Epoch 29/100\n",
      "363/363 [==============================] - 0s 406us/step - loss: 0.4061 - val_loss: 0.3892\n",
      "Epoch 30/100\n",
      "363/363 [==============================] - 0s 407us/step - loss: 0.4053 - val_loss: 0.3887\n",
      "Epoch 31/100\n",
      "363/363 [==============================] - 0s 406us/step - loss: 0.4043 - val_loss: 0.3880\n",
      "Epoch 32/100\n",
      "363/363 [==============================] - 0s 406us/step - loss: 0.4032 - val_loss: 0.3869\n",
      "Epoch 33/100\n",
      "363/363 [==============================] - 0s 417us/step - loss: 0.4021 - val_loss: 0.3865\n",
      "Epoch 34/100\n",
      "363/363 [==============================] - 0s 416us/step - loss: 0.4012 - val_loss: 0.3853\n",
      "Epoch 35/100\n",
      "363/363 [==============================] - 0s 416us/step - loss: 0.4004 - val_loss: 0.3850\n",
      "Epoch 36/100\n",
      "363/363 [==============================] - 0s 413us/step - loss: 0.3996 - val_loss: 0.3838\n",
      "Epoch 37/100\n",
      "363/363 [==============================] - 0s 398us/step - loss: 0.3983 - val_loss: 0.3843\n",
      "Epoch 38/100\n",
      "363/363 [==============================] - 0s 408us/step - loss: 0.3979 - val_loss: 0.3825\n",
      "Epoch 39/100\n",
      "363/363 [==============================] - 0s 427us/step - loss: 0.3968 - val_loss: 0.3814\n",
      "Epoch 40/100\n",
      "363/363 [==============================] - 0s 425us/step - loss: 0.3960 - val_loss: 0.3813\n",
      "Epoch 41/100\n",
      "363/363 [==============================] - 0s 471us/step - loss: 0.3950 - val_loss: 0.3807\n",
      "Epoch 42/100\n",
      "363/363 [==============================] - 0s 417us/step - loss: 0.3942 - val_loss: 0.3798\n",
      "Epoch 43/100\n",
      "363/363 [==============================] - 0s 417us/step - loss: 0.3934 - val_loss: 0.3786\n",
      "Epoch 44/100\n",
      "363/363 [==============================] - 0s 414us/step - loss: 0.3925 - val_loss: 0.3782\n",
      "Epoch 45/100\n",
      "363/363 [==============================] - 0s 411us/step - loss: 0.3915 - val_loss: 0.3778\n",
      "Epoch 46/100\n",
      "363/363 [==============================] - 0s 416us/step - loss: 0.3909 - val_loss: 0.3766\n",
      "Epoch 47/100\n",
      "363/363 [==============================] - 0s 405us/step - loss: 0.3898 - val_loss: 0.3759\n",
      "Epoch 48/100\n",
      "363/363 [==============================] - 0s 409us/step - loss: 0.3893 - val_loss: 0.3751\n",
      "Epoch 49/100\n",
      "363/363 [==============================] - 0s 404us/step - loss: 0.3883 - val_loss: 0.3747\n",
      "Epoch 50/100\n",
      "363/363 [==============================] - 0s 399us/step - loss: 0.3873 - val_loss: 0.3748\n",
      "Epoch 51/100\n",
      "363/363 [==============================] - 0s 406us/step - loss: 0.3865 - val_loss: 0.3731\n",
      "Epoch 52/100\n",
      "363/363 [==============================] - 0s 406us/step - loss: 0.3859 - val_loss: 0.3725\n",
      "Epoch 53/100\n",
      "363/363 [==============================] - 0s 408us/step - loss: 0.3850 - val_loss: 0.3721\n",
      "Epoch 54/100\n",
      "363/363 [==============================] - 0s 471us/step - loss: 0.3843 - val_loss: 0.3715\n",
      "Epoch 55/100\n",
      "363/363 [==============================] - 0s 406us/step - loss: 0.3835 - val_loss: 0.3705\n",
      "Epoch 56/100\n",
      "363/363 [==============================] - 0s 398us/step - loss: 0.3825 - val_loss: 0.3706\n",
      "Epoch 57/100\n",
      "363/363 [==============================] - 0s 403us/step - loss: 0.3819 - val_loss: 0.3696\n",
      "Epoch 58/100\n",
      "363/363 [==============================] - 0s 416us/step - loss: 0.3812 - val_loss: 0.3684\n",
      "Epoch 59/100\n",
      "363/363 [==============================] - 0s 403us/step - loss: 0.3806 - val_loss: 0.3678\n",
      "Epoch 60/100\n",
      "363/363 [==============================] - 0s 406us/step - loss: 0.3797 - val_loss: 0.3672\n",
      "Epoch 61/100\n",
      "363/363 [==============================] - 0s 402us/step - loss: 0.3789 - val_loss: 0.3665\n",
      "Epoch 62/100\n",
      "363/363 [==============================] - 0s 405us/step - loss: 0.3781 - val_loss: 0.3661\n",
      "Epoch 63/100\n",
      "363/363 [==============================] - 0s 405us/step - loss: 0.3774 - val_loss: 0.3660\n",
      "Epoch 64/100\n",
      "363/363 [==============================] - 0s 405us/step - loss: 0.3767 - val_loss: 0.3644\n",
      "Epoch 65/100\n",
      "363/363 [==============================] - 0s 394us/step - loss: 0.3760 - val_loss: 0.3645\n",
      "Epoch 66/100\n",
      "363/363 [==============================] - 0s 478us/step - loss: 0.3754 - val_loss: 0.3640\n",
      "Epoch 67/100\n",
      "363/363 [==============================] - 0s 406us/step - loss: 0.3743 - val_loss: 0.3630\n",
      "Epoch 68/100\n",
      "363/363 [==============================] - 0s 408us/step - loss: 0.3737 - val_loss: 0.3622\n",
      "Epoch 69/100\n",
      "363/363 [==============================] - 0s 406us/step - loss: 0.3730 - val_loss: 0.3617\n",
      "Epoch 70/100\n",
      "363/363 [==============================] - 0s 405us/step - loss: 0.3723 - val_loss: 0.3609\n",
      "Epoch 71/100\n",
      "363/363 [==============================] - 0s 404us/step - loss: 0.3718 - val_loss: 0.3605\n",
      "Epoch 72/100\n",
      "363/363 [==============================] - 0s 396us/step - loss: 0.3706 - val_loss: 0.3607\n",
      "Epoch 73/100\n",
      "363/363 [==============================] - 0s 407us/step - loss: 0.3702 - val_loss: 0.3598\n",
      "Epoch 74/100\n",
      "363/363 [==============================] - 0s 410us/step - loss: 0.3693 - val_loss: 0.3587\n",
      "Epoch 75/100\n",
      "363/363 [==============================] - 0s 404us/step - loss: 0.3685 - val_loss: 0.3577\n",
      "Epoch 76/100\n",
      "363/363 [==============================] - 0s 403us/step - loss: 0.3679 - val_loss: 0.3576\n",
      "Epoch 77/100\n",
      "363/363 [==============================] - 0s 468us/step - loss: 0.3670 - val_loss: 0.3568\n",
      "Epoch 78/100\n",
      "363/363 [==============================] - 0s 408us/step - loss: 0.3665 - val_loss: 0.3560\n",
      "Epoch 79/100\n",
      "363/363 [==============================] - 0s 398us/step - loss: 0.3658 - val_loss: 0.3564\n",
      "Epoch 80/100\n",
      "363/363 [==============================] - 0s 406us/step - loss: 0.3652 - val_loss: 0.3555\n",
      "Epoch 81/100\n",
      "363/363 [==============================] - 0s 404us/step - loss: 0.3643 - val_loss: 0.3555\n",
      "Epoch 82/100\n",
      "363/363 [==============================] - 0s 405us/step - loss: 0.3638 - val_loss: 0.3540\n",
      "Epoch 83/100\n",
      "363/363 [==============================] - 0s 403us/step - loss: 0.3629 - val_loss: 0.3532\n",
      "Epoch 84/100\n",
      "363/363 [==============================] - 0s 398us/step - loss: 0.3618 - val_loss: 0.3547\n",
      "Epoch 85/100\n",
      "363/363 [==============================] - 0s 404us/step - loss: 0.3617 - val_loss: 0.3524\n",
      "Epoch 86/100\n",
      "363/363 [==============================] - 0s 403us/step - loss: 0.3612 - val_loss: 0.3514\n",
      "Epoch 87/100\n",
      "363/363 [==============================] - 0s 404us/step - loss: 0.3603 - val_loss: 0.3514\n",
      "Epoch 88/100\n",
      "363/363 [==============================] - 0s 404us/step - loss: 0.3598 - val_loss: 0.3510\n",
      "Epoch 89/100\n",
      "363/363 [==============================] - 0s 405us/step - loss: 0.3591 - val_loss: 0.3504\n",
      "Epoch 90/100\n",
      "363/363 [==============================] - 0s 486us/step - loss: 0.3583 - val_loss: 0.3497\n",
      "Epoch 91/100\n",
      "363/363 [==============================] - 0s 404us/step - loss: 0.3579 - val_loss: 0.3493\n",
      "Epoch 92/100\n",
      "363/363 [==============================] - 0s 403us/step - loss: 0.3574 - val_loss: 0.3489\n",
      "Epoch 93/100\n",
      "363/363 [==============================] - 0s 405us/step - loss: 0.3567 - val_loss: 0.3480\n",
      "Epoch 94/100\n",
      "363/363 [==============================] - 0s 396us/step - loss: 0.3561 - val_loss: 0.3486\n",
      "Epoch 95/100\n",
      "363/363 [==============================] - 0s 402us/step - loss: 0.3555 - val_loss: 0.3472\n",
      "Epoch 96/100\n",
      "363/363 [==============================] - 0s 407us/step - loss: 0.3552 - val_loss: 0.3467\n",
      "Epoch 97/100\n",
      "363/363 [==============================] - 0s 406us/step - loss: 0.3545 - val_loss: 0.3465\n",
      "Epoch 98/100\n",
      "363/363 [==============================] - 0s 408us/step - loss: 0.3540 - val_loss: 0.3465\n",
      "Epoch 99/100\n",
      "363/363 [==============================] - 0s 406us/step - loss: 0.3534 - val_loss: 0.3455\n",
      "Epoch 100/100\n",
      "363/363 [==============================] - 0s 407us/step - loss: 0.3528 - val_loss: 0.3451\n"
     ]
    }
   ],
   "source": [
    "early_stopping_cb = keras.callbacks.EarlyStopping(patience=10, restore_best_weights=True)\n",
    "history = model.fit(X_train, y_train, epochs=100, validation_data=(X_valid, y_valid), callbacks=[checkpoint_cb, early_stopping_cb])"
   ]
  },
  {
   "cell_type": "code",
   "execution_count": 84,
   "metadata": {},
   "outputs": [],
   "source": [
    "class PrintValTrainRatioCallback(keras.callbacks.Callback):\n",
    "    def on_epoch_end(self, epoch, logs):\n",
    "        print('\\nval/train: {}:.2f'.format(logs['val_loss'] / logs['loss']))"
   ]
  },
  {
   "cell_type": "markdown",
   "metadata": {},
   "source": [
    "### 10.2.8 텐서보드를 사용해 시각화하기"
   ]
  },
  {
   "cell_type": "code",
   "execution_count": 85,
   "metadata": {},
   "outputs": [],
   "source": [
    "import os\n",
    "root_logdir = os.path.join(os.curdir, 'my_logs')\n",
    "\n",
    "def get_run_logdir():\n",
    "    import time\n",
    "    run_id = time.strftime(\"run_%Y_%m_%d-%H_%M_%S\")\n",
    "    return os.path.join(root_logdir, run_id)\n",
    "\n",
    "run_logdir = get_run_logdir()"
   ]
  },
  {
   "cell_type": "code",
   "execution_count": 86,
   "metadata": {},
   "outputs": [],
   "source": [
    "keras.backend.clear_session()\n",
    "np.random.seed(42)\n",
    "tf.random.set_seed(42)"
   ]
  },
  {
   "cell_type": "code",
   "execution_count": 87,
   "metadata": {},
   "outputs": [
    {
     "name": "stderr",
     "output_type": "stream",
     "text": [
      "WARNING:absl:At this time, the v2.11+ optimizer `tf.keras.optimizers.SGD` runs slowly on M1/M2 Macs, please use the legacy Keras optimizer instead, located at `tf.keras.optimizers.legacy.SGD`.\n",
      "WARNING:absl:There is a known slowdown when using v2.11+ Keras optimizers on M1/M2 Macs. Falling back to the legacy Keras optimizer, i.e., `tf.keras.optimizers.legacy.SGD`.\n"
     ]
    }
   ],
   "source": [
    "model = keras.models.Sequential([\n",
    "    keras.layers.Dense(30, activation=\"relu\", input_shape=[8]),\n",
    "    keras.layers.Dense(30, activation=\"relu\"),\n",
    "    keras.layers.Dense(1)\n",
    "])    \n",
    "model.compile(loss=\"mse\", optimizer=keras.optimizers.SGD(learning_rate=1e-3))"
   ]
  },
  {
   "cell_type": "code",
   "execution_count": 88,
   "metadata": {},
   "outputs": [
    {
     "name": "stdout",
     "output_type": "stream",
     "text": [
      "Epoch 1/30\n",
      "363/363 [==============================] - 0s 854us/step - loss: 2.0421 - val_loss: 0.8976\n",
      "Epoch 2/30\n",
      "363/363 [==============================] - 0s 501us/step - loss: 0.8169 - val_loss: 0.7202\n",
      "Epoch 3/30\n",
      "363/363 [==============================] - 0s 443us/step - loss: 0.7154 - val_loss: 0.6543\n",
      "Epoch 4/30\n",
      "363/363 [==============================] - 0s 441us/step - loss: 0.6616 - val_loss: 0.6105\n",
      "Epoch 5/30\n",
      "363/363 [==============================] - 0s 473us/step - loss: 0.6253 - val_loss: 0.5797\n",
      "Epoch 6/30\n",
      "363/363 [==============================] - 0s 433us/step - loss: 0.5967 - val_loss: 0.5545\n",
      "Epoch 7/30\n",
      "363/363 [==============================] - 0s 435us/step - loss: 0.5749 - val_loss: 0.5344\n",
      "Epoch 8/30\n",
      "363/363 [==============================] - 0s 450us/step - loss: 0.5570 - val_loss: 0.5197\n",
      "Epoch 9/30\n",
      "363/363 [==============================] - 0s 432us/step - loss: 0.5424 - val_loss: 0.5064\n",
      "Epoch 10/30\n",
      "363/363 [==============================] - 0s 432us/step - loss: 0.5302 - val_loss: 0.4948\n",
      "Epoch 11/30\n",
      "363/363 [==============================] - 0s 481us/step - loss: 0.5200 - val_loss: 0.4857\n",
      "Epoch 12/30\n",
      "363/363 [==============================] - 0s 450us/step - loss: 0.5113 - val_loss: 0.4770\n",
      "Epoch 13/30\n",
      "363/363 [==============================] - 0s 440us/step - loss: 0.5044 - val_loss: 0.4700\n",
      "Epoch 14/30\n",
      "363/363 [==============================] - 0s 457us/step - loss: 0.4973 - val_loss: 0.4642\n",
      "Epoch 15/30\n",
      "363/363 [==============================] - 0s 430us/step - loss: 0.4915 - val_loss: 0.4578\n",
      "Epoch 16/30\n",
      "363/363 [==============================] - 0s 458us/step - loss: 0.4860 - val_loss: 0.4540\n",
      "Epoch 17/30\n",
      "363/363 [==============================] - 0s 478us/step - loss: 0.4810 - val_loss: 0.4485\n",
      "Epoch 18/30\n",
      "363/363 [==============================] - 0s 429us/step - loss: 0.4772 - val_loss: 0.4443\n",
      "Epoch 19/30\n",
      "363/363 [==============================] - 0s 434us/step - loss: 0.4726 - val_loss: 0.4412\n",
      "Epoch 20/30\n",
      "363/363 [==============================] - 0s 437us/step - loss: 0.4693 - val_loss: 0.4376\n",
      "Epoch 21/30\n",
      "363/363 [==============================] - 0s 439us/step - loss: 0.4653 - val_loss: 0.4344\n",
      "Epoch 22/30\n",
      "363/363 [==============================] - 0s 435us/step - loss: 0.4623 - val_loss: 0.4318\n",
      "Epoch 23/30\n",
      "363/363 [==============================] - 0s 437us/step - loss: 0.4597 - val_loss: 0.4296\n",
      "Epoch 24/30\n",
      "363/363 [==============================] - 0s 434us/step - loss: 0.4572 - val_loss: 0.4283\n",
      "Epoch 25/30\n",
      "363/363 [==============================] - 0s 428us/step - loss: 0.4546 - val_loss: 0.4252\n",
      "Epoch 26/30\n",
      "363/363 [==============================] - 0s 427us/step - loss: 0.4515 - val_loss: 0.4244\n",
      "Epoch 27/30\n",
      "363/363 [==============================] - 0s 526us/step - loss: 0.4500 - val_loss: 0.4215\n",
      "Epoch 28/30\n",
      "363/363 [==============================] - 0s 436us/step - loss: 0.4476 - val_loss: 0.4201\n",
      "Epoch 29/30\n",
      "363/363 [==============================] - 0s 434us/step - loss: 0.4457 - val_loss: 0.4187\n",
      "Epoch 30/30\n",
      "363/363 [==============================] - 0s 438us/step - loss: 0.4438 - val_loss: 0.4173\n"
     ]
    }
   ],
   "source": [
    "tensorboard_cb = keras.callbacks.TensorBoard(run_logdir)\n",
    "history = model.fit(X_train, y_train, epochs=30, validation_data=(X_valid, y_valid), callbacks=[tensorboard_cb])"
   ]
  },
  {
   "cell_type": "code",
   "execution_count": 89,
   "metadata": {},
   "outputs": [],
   "source": [
    "# %load_ext tensorboard\n",
    "# %tensorboard --logdir=./my_logs --port=6006"
   ]
  },
  {
   "cell_type": "markdown",
   "metadata": {},
   "source": [
    "## 10.3 신경망 하이퍼파라미터 튜닝하기"
   ]
  },
  {
   "cell_type": "code",
   "execution_count": 90,
   "metadata": {},
   "outputs": [],
   "source": [
    "def build_model(n_hidden=1, n_neurons=30, learning_rate = 3e-3, input_shape=[8]):\n",
    "    model = keras.models.Sequential()\n",
    "    model.add(keras.layers.InputLayer(input_shape=input_shape))\n",
    "    for layer in range(n_hidden):\n",
    "        model.add(keras.layers.Dense(n_neurons, activation='relu'))\n",
    "    model.add(keras.layers.Dense(1))\n",
    "    optimizer = keras.optimizers.SGD(lr=learning_rate)\n",
    "    model.compile(loss='mse', optimizer=optimizer)\n",
    "    return model"
   ]
  },
  {
   "cell_type": "code",
   "execution_count": 95,
   "metadata": {},
   "outputs": [],
   "source": [
    "from scikeras.wrappers import KerasRegressor\n",
    "\n",
    "keras_reg = KerasRegressor(build_model)"
   ]
  },
  {
   "cell_type": "code",
   "execution_count": 96,
   "metadata": {},
   "outputs": [
    {
     "name": "stderr",
     "output_type": "stream",
     "text": [
      "WARNING:absl:At this time, the v2.11+ optimizer `tf.keras.optimizers.SGD` runs slowly on M1/M2 Macs, please use the legacy Keras optimizer instead, located at `tf.keras.optimizers.legacy.SGD`.\n",
      "WARNING:absl:`lr` is deprecated in Keras optimizer, please use `learning_rate` or use the legacy optimizer, e.g.,tf.keras.optimizers.legacy.SGD.\n",
      "WARNING:absl:There is a known slowdown when using v2.11+ Keras optimizers on M1/M2 Macs. Falling back to the legacy Keras optimizer, i.e., `tf.keras.optimizers.legacy.SGD`.\n"
     ]
    },
    {
     "name": "stdout",
     "output_type": "stream",
     "text": [
      "Epoch 1/100\n",
      "363/363 [==============================] - 0s 541us/step - loss: 0.8000 - val_loss: 0.5068\n",
      "Epoch 2/100\n",
      "363/363 [==============================] - 0s 400us/step - loss: 0.5069 - val_loss: 0.4609\n",
      "Epoch 3/100\n",
      "363/363 [==============================] - 0s 398us/step - loss: 0.4738 - val_loss: 0.4332\n",
      "Epoch 4/100\n",
      "363/363 [==============================] - 0s 407us/step - loss: 0.4541 - val_loss: 0.4264\n",
      "Epoch 5/100\n",
      "363/363 [==============================] - 0s 405us/step - loss: 0.4442 - val_loss: 0.4158\n",
      "Epoch 6/100\n",
      "363/363 [==============================] - 0s 477us/step - loss: 0.4346 - val_loss: 0.4121\n",
      "Epoch 7/100\n",
      "363/363 [==============================] - 0s 401us/step - loss: 0.4297 - val_loss: 0.4040\n",
      "Epoch 8/100\n",
      "363/363 [==============================] - 0s 400us/step - loss: 0.4219 - val_loss: 0.3968\n",
      "Epoch 9/100\n",
      "363/363 [==============================] - 0s 401us/step - loss: 0.4154 - val_loss: 0.3921\n",
      "Epoch 10/100\n",
      "363/363 [==============================] - 0s 401us/step - loss: 0.4105 - val_loss: 0.3910\n",
      "Epoch 11/100\n",
      "363/363 [==============================] - 0s 398us/step - loss: 0.4049 - val_loss: 0.3867\n",
      "Epoch 12/100\n",
      "363/363 [==============================] - 0s 397us/step - loss: 0.3991 - val_loss: 0.3790\n",
      "Epoch 13/100\n",
      "363/363 [==============================] - 0s 395us/step - loss: 0.3940 - val_loss: 0.3781\n",
      "Epoch 14/100\n",
      "363/363 [==============================] - 0s 396us/step - loss: 0.3895 - val_loss: 0.3764\n",
      "Epoch 15/100\n",
      "363/363 [==============================] - 0s 400us/step - loss: 0.3867 - val_loss: 0.3672\n",
      "Epoch 16/100\n",
      "363/363 [==============================] - 0s 397us/step - loss: 0.3814 - val_loss: 0.3721\n",
      "Epoch 17/100\n",
      "363/363 [==============================] - 0s 400us/step - loss: 0.3856 - val_loss: 0.3619\n",
      "Epoch 18/100\n",
      "363/363 [==============================] - 0s 395us/step - loss: 0.3760 - val_loss: 0.3658\n",
      "Epoch 19/100\n",
      "363/363 [==============================] - 0s 400us/step - loss: 0.3744 - val_loss: 0.3592\n",
      "Epoch 20/100\n",
      "363/363 [==============================] - 0s 465us/step - loss: 0.3716 - val_loss: 0.3543\n",
      "Epoch 21/100\n",
      "363/363 [==============================] - 0s 400us/step - loss: 0.3682 - val_loss: 0.3631\n",
      "Epoch 22/100\n",
      "363/363 [==============================] - 0s 396us/step - loss: 0.3724 - val_loss: 0.3633\n",
      "Epoch 23/100\n",
      "363/363 [==============================] - 0s 397us/step - loss: 0.3646 - val_loss: 0.3625\n",
      "Epoch 24/100\n",
      "363/363 [==============================] - 0s 403us/step - loss: 0.3627 - val_loss: 0.3528\n",
      "Epoch 25/100\n",
      "363/363 [==============================] - 0s 413us/step - loss: 0.3605 - val_loss: 0.3649\n",
      "Epoch 26/100\n",
      "363/363 [==============================] - 0s 411us/step - loss: 0.3614 - val_loss: 0.3471\n",
      "Epoch 27/100\n",
      "363/363 [==============================] - 0s 400us/step - loss: 0.3591 - val_loss: 0.3495\n",
      "Epoch 28/100\n",
      "363/363 [==============================] - 0s 401us/step - loss: 0.3614 - val_loss: 0.3440\n",
      "Epoch 29/100\n",
      "363/363 [==============================] - 0s 406us/step - loss: 0.3568 - val_loss: 0.3423\n",
      "Epoch 30/100\n",
      "363/363 [==============================] - 0s 409us/step - loss: 0.3539 - val_loss: 0.3412\n",
      "Epoch 31/100\n",
      "363/363 [==============================] - 0s 421us/step - loss: 0.3618 - val_loss: 0.3425\n",
      "Epoch 32/100\n",
      "363/363 [==============================] - 0s 416us/step - loss: 0.3505 - val_loss: 0.3406\n",
      "Epoch 33/100\n",
      "363/363 [==============================] - 0s 398us/step - loss: 0.3484 - val_loss: 0.3460\n",
      "Epoch 34/100\n",
      "363/363 [==============================] - 0s 593us/step - loss: 0.3481 - val_loss: 0.3432\n",
      "Epoch 35/100\n",
      "363/363 [==============================] - 0s 428us/step - loss: 0.3494 - val_loss: 0.3422\n",
      "Epoch 36/100\n",
      "363/363 [==============================] - 0s 416us/step - loss: 0.3500 - val_loss: 0.3483\n",
      "Epoch 37/100\n",
      "363/363 [==============================] - 0s 414us/step - loss: 0.3457 - val_loss: 0.3367\n",
      "Epoch 38/100\n",
      "363/363 [==============================] - 0s 418us/step - loss: 0.3445 - val_loss: 0.3345\n",
      "Epoch 39/100\n",
      "363/363 [==============================] - 0s 409us/step - loss: 0.3628 - val_loss: 0.3637\n",
      "Epoch 40/100\n",
      "363/363 [==============================] - 0s 498us/step - loss: 0.3464 - val_loss: 0.3363\n",
      "Epoch 41/100\n",
      "363/363 [==============================] - 0s 505us/step - loss: 0.3423 - val_loss: 0.3471\n",
      "Epoch 42/100\n",
      "363/363 [==============================] - 0s 407us/step - loss: 0.3493 - val_loss: 0.3297\n",
      "Epoch 43/100\n",
      "363/363 [==============================] - 0s 400us/step - loss: 0.3427 - val_loss: 0.3312\n",
      "Epoch 44/100\n",
      "363/363 [==============================] - 0s 398us/step - loss: 0.3440 - val_loss: 0.3323\n",
      "Epoch 45/100\n",
      "363/363 [==============================] - 0s 539us/step - loss: 0.3379 - val_loss: 0.3337\n",
      "Epoch 46/100\n",
      "363/363 [==============================] - 0s 396us/step - loss: 0.3364 - val_loss: 0.3289\n",
      "Epoch 47/100\n",
      "363/363 [==============================] - 0s 472us/step - loss: 0.3517 - val_loss: 0.3412\n",
      "Epoch 48/100\n",
      "363/363 [==============================] - 0s 396us/step - loss: 0.3439 - val_loss: 0.3304\n",
      "Epoch 49/100\n",
      "363/363 [==============================] - 0s 395us/step - loss: 0.3382 - val_loss: 0.3299\n",
      "Epoch 50/100\n",
      "363/363 [==============================] - 0s 397us/step - loss: 0.3371 - val_loss: 0.3295\n",
      "Epoch 51/100\n",
      "363/363 [==============================] - 0s 397us/step - loss: 0.3355 - val_loss: 0.3280\n",
      "Epoch 52/100\n",
      "363/363 [==============================] - 0s 394us/step - loss: 0.3344 - val_loss: 0.3276\n",
      "Epoch 53/100\n",
      "363/363 [==============================] - 0s 397us/step - loss: 0.3345 - val_loss: 0.3259\n",
      "Epoch 54/100\n",
      "363/363 [==============================] - 0s 398us/step - loss: 0.3415 - val_loss: 0.6150\n",
      "Epoch 55/100\n",
      "363/363 [==============================] - 0s 400us/step - loss: 0.3414 - val_loss: 0.3275\n",
      "Epoch 56/100\n",
      "363/363 [==============================] - 0s 395us/step - loss: 0.3335 - val_loss: 0.3335\n",
      "Epoch 57/100\n",
      "363/363 [==============================] - 0s 400us/step - loss: 0.3364 - val_loss: 0.3288\n",
      "Epoch 58/100\n",
      "363/363 [==============================] - 0s 398us/step - loss: 0.3400 - val_loss: 0.3242\n",
      "Epoch 59/100\n",
      "363/363 [==============================] - 0s 401us/step - loss: 0.3335 - val_loss: 0.3255\n",
      "Epoch 60/100\n",
      "363/363 [==============================] - 0s 409us/step - loss: 0.3328 - val_loss: 0.3237\n",
      "Epoch 61/100\n",
      "363/363 [==============================] - 0s 465us/step - loss: 0.3406 - val_loss: 0.4381\n",
      "Epoch 62/100\n",
      "363/363 [==============================] - 0s 400us/step - loss: 0.3332 - val_loss: 0.3258\n",
      "Epoch 63/100\n",
      "363/363 [==============================] - 0s 399us/step - loss: 0.3317 - val_loss: 0.3213\n",
      "Epoch 64/100\n",
      "363/363 [==============================] - 0s 396us/step - loss: 0.3308 - val_loss: 0.3250\n",
      "Epoch 65/100\n",
      "363/363 [==============================] - 0s 394us/step - loss: 0.3356 - val_loss: 0.3206\n",
      "Epoch 66/100\n",
      "363/363 [==============================] - 0s 396us/step - loss: 0.3287 - val_loss: 0.3262\n",
      "Epoch 67/100\n",
      "363/363 [==============================] - 0s 396us/step - loss: 0.3395 - val_loss: 0.3188\n",
      "Epoch 68/100\n",
      "363/363 [==============================] - 0s 405us/step - loss: 0.3309 - val_loss: 0.3213\n",
      "Epoch 69/100\n",
      "363/363 [==============================] - 0s 394us/step - loss: 0.3325 - val_loss: 0.3220\n",
      "Epoch 70/100\n",
      "363/363 [==============================] - 0s 409us/step - loss: 0.3323 - val_loss: 0.3205\n",
      "Epoch 71/100\n",
      "363/363 [==============================] - 0s 399us/step - loss: 0.4785 - val_loss: 0.3321\n",
      "Epoch 72/100\n",
      "363/363 [==============================] - 0s 394us/step - loss: 0.3453 - val_loss: 0.3249\n",
      "Epoch 73/100\n",
      "363/363 [==============================] - 0s 393us/step - loss: 0.3429 - val_loss: 0.3221\n",
      "Epoch 74/100\n",
      "363/363 [==============================] - 0s 497us/step - loss: 0.3318 - val_loss: 0.3283\n",
      "Epoch 75/100\n",
      "363/363 [==============================] - 0s 398us/step - loss: 0.3378 - val_loss: 0.3246\n",
      "Epoch 76/100\n",
      "363/363 [==============================] - 0s 398us/step - loss: 0.3533 - val_loss: 0.3233\n",
      "Epoch 77/100\n",
      "363/363 [==============================] - 0s 398us/step - loss: 0.3322 - val_loss: 0.3224\n",
      "Epoch 78/100\n",
      "363/363 [==============================] - 0s 396us/step - loss: 0.3288 - val_loss: 0.3194\n",
      "Epoch 79/100\n",
      "363/363 [==============================] - 0s 399us/step - loss: 0.3292 - val_loss: 0.3285\n",
      "Epoch 80/100\n",
      "363/363 [==============================] - 0s 399us/step - loss: 0.3294 - val_loss: 0.3173\n",
      "Epoch 81/100\n",
      "363/363 [==============================] - 0s 396us/step - loss: 0.3292 - val_loss: 0.3182\n",
      "Epoch 82/100\n",
      "363/363 [==============================] - 0s 393us/step - loss: 0.3264 - val_loss: 0.3172\n",
      "Epoch 83/100\n",
      "363/363 [==============================] - 0s 395us/step - loss: 0.3277 - val_loss: 0.3198\n",
      "Epoch 84/100\n",
      "363/363 [==============================] - 0s 392us/step - loss: 0.3272 - val_loss: 0.3241\n",
      "Epoch 85/100\n",
      "363/363 [==============================] - 0s 399us/step - loss: 0.3301 - val_loss: 0.3176\n",
      "Epoch 86/100\n",
      "363/363 [==============================] - 0s 396us/step - loss: 0.3266 - val_loss: 0.3167\n",
      "Epoch 87/100\n",
      "363/363 [==============================] - 0s 394us/step - loss: 0.3316 - val_loss: 0.3302\n",
      "Epoch 88/100\n",
      "363/363 [==============================] - 0s 469us/step - loss: 0.3302 - val_loss: 0.3198\n",
      "Epoch 89/100\n",
      "363/363 [==============================] - 0s 396us/step - loss: 0.3253 - val_loss: 0.3166\n",
      "Epoch 90/100\n",
      "363/363 [==============================] - 0s 396us/step - loss: 0.3247 - val_loss: 0.3198\n",
      "Epoch 91/100\n",
      "363/363 [==============================] - 0s 408us/step - loss: 0.3263 - val_loss: 0.3210\n",
      "Epoch 92/100\n",
      "363/363 [==============================] - 0s 391us/step - loss: 0.3262 - val_loss: 0.3145\n",
      "Epoch 93/100\n",
      "363/363 [==============================] - 0s 398us/step - loss: 0.3244 - val_loss: 0.3276\n",
      "Epoch 94/100\n",
      "363/363 [==============================] - 0s 392us/step - loss: 0.3248 - val_loss: 0.3135\n",
      "Epoch 95/100\n",
      "363/363 [==============================] - 0s 394us/step - loss: 0.3224 - val_loss: 0.3218\n",
      "Epoch 96/100\n",
      "363/363 [==============================] - 0s 396us/step - loss: 0.3248 - val_loss: 0.3197\n",
      "Epoch 97/100\n",
      "363/363 [==============================] - 0s 398us/step - loss: 0.3247 - val_loss: 0.3172\n",
      "Epoch 98/100\n",
      "363/363 [==============================] - 0s 397us/step - loss: 0.3334 - val_loss: 0.3217\n",
      "Epoch 99/100\n",
      "363/363 [==============================] - 0s 397us/step - loss: 0.3276 - val_loss: 0.3240\n",
      "Epoch 100/100\n",
      "363/363 [==============================] - 0s 397us/step - loss: 0.3291 - val_loss: 0.3211\n",
      "WARNING:tensorflow:5 out of the last 5 calls to <function Model.make_predict_function.<locals>.predict_function at 0x113422cb0> triggered tf.function retracing. Tracing is expensive and the excessive number of tracings could be due to (1) creating @tf.function repeatedly in a loop, (2) passing tensors with different shapes, (3) passing Python objects instead of tensors. For (1), please define your @tf.function outside of the loop. For (2), @tf.function has reduce_retracing=True option that can avoid unnecessary retracing. For (3), please refer to https://www.tensorflow.org/guide/function#controlling_retracing and https://www.tensorflow.org/api_docs/python/tf/function for  more details.\n"
     ]
    },
    {
     "name": "stderr",
     "output_type": "stream",
     "text": [
      "WARNING:tensorflow:5 out of the last 5 calls to <function Model.make_predict_function.<locals>.predict_function at 0x113422cb0> triggered tf.function retracing. Tracing is expensive and the excessive number of tracings could be due to (1) creating @tf.function repeatedly in a loop, (2) passing tensors with different shapes, (3) passing Python objects instead of tensors. For (1), please define your @tf.function outside of the loop. For (2), @tf.function has reduce_retracing=True option that can avoid unnecessary retracing. For (3), please refer to https://www.tensorflow.org/guide/function#controlling_retracing and https://www.tensorflow.org/api_docs/python/tf/function for  more details.\n"
     ]
    },
    {
     "name": "stdout",
     "output_type": "stream",
     "text": [
      "162/162 [==============================] - 0s 451us/step\n",
      "1/1 [==============================] - 0s 9ms/step\n"
     ]
    }
   ],
   "source": [
    "keras_reg.fit(X_train, y_train, epochs=100, validation_data = (X_valid, y_valid), callbacks=[keras.callbacks.EarlyStopping(patience=10)])\n",
    "mse_test = keras_reg.score(X_test, y_test)\n",
    "y_pred = keras_reg.predict(X_new)"
   ]
  },
  {
   "cell_type": "code",
   "execution_count": 102,
   "metadata": {},
   "outputs": [
    {
     "name": "stdout",
     "output_type": "stream",
     "text": [
      "Fitting 3 folds for each of 10 candidates, totalling 30 fits\n"
     ]
    },
    {
     "ename": "ValueError",
     "evalue": "Invalid parameter n_neurons for estimator KerasRegressor.\nThis issue can likely be resolved by setting this parameter in the KerasRegressor constructor:\n`KerasRegressor(n_neurons=79)`\nCheck the list of available parameters with `estimator.get_params().keys()`",
     "output_type": "error",
     "traceback": [
      "\u001b[0;31m---------------------------------------------------------------------------\u001b[0m",
      "\u001b[0;31mValueError\u001b[0m                                Traceback (most recent call last)",
      "\u001b[1;32m/Users/oneash/ONEASH/Coding/HandsOnML2/codes/10_neural_nets_with_keras.ipynb Cell 78\u001b[0m line \u001b[0;36m1\n\u001b[1;32m      <a href='vscode-notebook-cell:/Users/oneash/ONEASH/Coding/HandsOnML2/codes/10_neural_nets_with_keras.ipynb#Y160sZmlsZQ%3D%3D?line=3'>4</a>\u001b[0m param_distribs \u001b[39m=\u001b[39m {\n\u001b[1;32m      <a href='vscode-notebook-cell:/Users/oneash/ONEASH/Coding/HandsOnML2/codes/10_neural_nets_with_keras.ipynb#Y160sZmlsZQ%3D%3D?line=4'>5</a>\u001b[0m     \u001b[39m\"\u001b[39m\u001b[39mn_hidden\u001b[39m\u001b[39m\"\u001b[39m: [\u001b[39m0\u001b[39m, \u001b[39m1\u001b[39m, \u001b[39m2\u001b[39m, \u001b[39m3\u001b[39m],\n\u001b[1;32m      <a href='vscode-notebook-cell:/Users/oneash/ONEASH/Coding/HandsOnML2/codes/10_neural_nets_with_keras.ipynb#Y160sZmlsZQ%3D%3D?line=5'>6</a>\u001b[0m     \u001b[39m\"\u001b[39m\u001b[39mn_neurons\u001b[39m\u001b[39m\"\u001b[39m: np\u001b[39m.\u001b[39marange(\u001b[39m1\u001b[39m, \u001b[39m100\u001b[39m)\u001b[39m.\u001b[39mtolist(),\n\u001b[1;32m      <a href='vscode-notebook-cell:/Users/oneash/ONEASH/Coding/HandsOnML2/codes/10_neural_nets_with_keras.ipynb#Y160sZmlsZQ%3D%3D?line=6'>7</a>\u001b[0m     \u001b[39m\"\u001b[39m\u001b[39mlearning_rate\u001b[39m\u001b[39m\"\u001b[39m: reciprocal(\u001b[39m3e-4\u001b[39m, \u001b[39m3e-2\u001b[39m)\u001b[39m.\u001b[39mrvs(\u001b[39m1000\u001b[39m)\u001b[39m.\u001b[39mtolist(),\n\u001b[1;32m      <a href='vscode-notebook-cell:/Users/oneash/ONEASH/Coding/HandsOnML2/codes/10_neural_nets_with_keras.ipynb#Y160sZmlsZQ%3D%3D?line=7'>8</a>\u001b[0m }\n\u001b[1;32m     <a href='vscode-notebook-cell:/Users/oneash/ONEASH/Coding/HandsOnML2/codes/10_neural_nets_with_keras.ipynb#Y160sZmlsZQ%3D%3D?line=9'>10</a>\u001b[0m rnd_search_cv \u001b[39m=\u001b[39m RandomizedSearchCV(keras_reg, param_distribs, n_iter\u001b[39m=\u001b[39m\u001b[39m10\u001b[39m, cv\u001b[39m=\u001b[39m\u001b[39m3\u001b[39m, verbose\u001b[39m=\u001b[39m\u001b[39m2\u001b[39m)\n\u001b[0;32m---> <a href='vscode-notebook-cell:/Users/oneash/ONEASH/Coding/HandsOnML2/codes/10_neural_nets_with_keras.ipynb#Y160sZmlsZQ%3D%3D?line=10'>11</a>\u001b[0m rnd_search_cv\u001b[39m.\u001b[39;49mfit(X_train, y_train, epochs\u001b[39m=\u001b[39;49m\u001b[39m100\u001b[39;49m,\n\u001b[1;32m     <a href='vscode-notebook-cell:/Users/oneash/ONEASH/Coding/HandsOnML2/codes/10_neural_nets_with_keras.ipynb#Y160sZmlsZQ%3D%3D?line=11'>12</a>\u001b[0m                   validation_data\u001b[39m=\u001b[39;49m(X_valid, y_valid),\n\u001b[1;32m     <a href='vscode-notebook-cell:/Users/oneash/ONEASH/Coding/HandsOnML2/codes/10_neural_nets_with_keras.ipynb#Y160sZmlsZQ%3D%3D?line=12'>13</a>\u001b[0m                   callbacks\u001b[39m=\u001b[39;49m[keras\u001b[39m.\u001b[39;49mcallbacks\u001b[39m.\u001b[39;49mEarlyStopping(patience\u001b[39m=\u001b[39;49m\u001b[39m10\u001b[39;49m)])\n",
      "File \u001b[0;32m/Library/Frameworks/Python.framework/Versions/3.10/lib/python3.10/site-packages/sklearn/model_selection/_search.py:874\u001b[0m, in \u001b[0;36mBaseSearchCV.fit\u001b[0;34m(self, X, y, groups, **fit_params)\u001b[0m\n\u001b[1;32m    868\u001b[0m     results \u001b[39m=\u001b[39m \u001b[39mself\u001b[39m\u001b[39m.\u001b[39m_format_results(\n\u001b[1;32m    869\u001b[0m         all_candidate_params, n_splits, all_out, all_more_results\n\u001b[1;32m    870\u001b[0m     )\n\u001b[1;32m    872\u001b[0m     \u001b[39mreturn\u001b[39;00m results\n\u001b[0;32m--> 874\u001b[0m \u001b[39mself\u001b[39;49m\u001b[39m.\u001b[39;49m_run_search(evaluate_candidates)\n\u001b[1;32m    876\u001b[0m \u001b[39m# multimetric is determined here because in the case of a callable\u001b[39;00m\n\u001b[1;32m    877\u001b[0m \u001b[39m# self.scoring the return type is only known after calling\u001b[39;00m\n\u001b[1;32m    878\u001b[0m first_test_score \u001b[39m=\u001b[39m all_out[\u001b[39m0\u001b[39m][\u001b[39m\"\u001b[39m\u001b[39mtest_scores\u001b[39m\u001b[39m\"\u001b[39m]\n",
      "File \u001b[0;32m/Library/Frameworks/Python.framework/Versions/3.10/lib/python3.10/site-packages/sklearn/model_selection/_search.py:1768\u001b[0m, in \u001b[0;36mRandomizedSearchCV._run_search\u001b[0;34m(self, evaluate_candidates)\u001b[0m\n\u001b[1;32m   1766\u001b[0m \u001b[39mdef\u001b[39;00m \u001b[39m_run_search\u001b[39m(\u001b[39mself\u001b[39m, evaluate_candidates):\n\u001b[1;32m   1767\u001b[0m \u001b[39m    \u001b[39m\u001b[39m\"\"\"Search n_iter candidates from param_distributions\"\"\"\u001b[39;00m\n\u001b[0;32m-> 1768\u001b[0m     evaluate_candidates(\n\u001b[1;32m   1769\u001b[0m         ParameterSampler(\n\u001b[1;32m   1770\u001b[0m             \u001b[39mself\u001b[39;49m\u001b[39m.\u001b[39;49mparam_distributions, \u001b[39mself\u001b[39;49m\u001b[39m.\u001b[39;49mn_iter, random_state\u001b[39m=\u001b[39;49m\u001b[39mself\u001b[39;49m\u001b[39m.\u001b[39;49mrandom_state\n\u001b[1;32m   1771\u001b[0m         )\n\u001b[1;32m   1772\u001b[0m     )\n",
      "File \u001b[0;32m/Library/Frameworks/Python.framework/Versions/3.10/lib/python3.10/site-packages/sklearn/model_selection/_search.py:821\u001b[0m, in \u001b[0;36mBaseSearchCV.fit.<locals>.evaluate_candidates\u001b[0;34m(candidate_params, cv, more_results)\u001b[0m\n\u001b[1;32m    813\u001b[0m \u001b[39mif\u001b[39;00m \u001b[39mself\u001b[39m\u001b[39m.\u001b[39mverbose \u001b[39m>\u001b[39m \u001b[39m0\u001b[39m:\n\u001b[1;32m    814\u001b[0m     \u001b[39mprint\u001b[39m(\n\u001b[1;32m    815\u001b[0m         \u001b[39m\"\u001b[39m\u001b[39mFitting \u001b[39m\u001b[39m{0}\u001b[39;00m\u001b[39m folds for each of \u001b[39m\u001b[39m{1}\u001b[39;00m\u001b[39m candidates,\u001b[39m\u001b[39m\"\u001b[39m\n\u001b[1;32m    816\u001b[0m         \u001b[39m\"\u001b[39m\u001b[39m totalling \u001b[39m\u001b[39m{2}\u001b[39;00m\u001b[39m fits\u001b[39m\u001b[39m\"\u001b[39m\u001b[39m.\u001b[39mformat(\n\u001b[1;32m    817\u001b[0m             n_splits, n_candidates, n_candidates \u001b[39m*\u001b[39m n_splits\n\u001b[1;32m    818\u001b[0m         )\n\u001b[1;32m    819\u001b[0m     )\n\u001b[0;32m--> 821\u001b[0m out \u001b[39m=\u001b[39m parallel(\n\u001b[1;32m    822\u001b[0m     delayed(_fit_and_score)(\n\u001b[1;32m    823\u001b[0m         clone(base_estimator),\n\u001b[1;32m    824\u001b[0m         X,\n\u001b[1;32m    825\u001b[0m         y,\n\u001b[1;32m    826\u001b[0m         train\u001b[39m=\u001b[39;49mtrain,\n\u001b[1;32m    827\u001b[0m         test\u001b[39m=\u001b[39;49mtest,\n\u001b[1;32m    828\u001b[0m         parameters\u001b[39m=\u001b[39;49mparameters,\n\u001b[1;32m    829\u001b[0m         split_progress\u001b[39m=\u001b[39;49m(split_idx, n_splits),\n\u001b[1;32m    830\u001b[0m         candidate_progress\u001b[39m=\u001b[39;49m(cand_idx, n_candidates),\n\u001b[1;32m    831\u001b[0m         \u001b[39m*\u001b[39;49m\u001b[39m*\u001b[39;49mfit_and_score_kwargs,\n\u001b[1;32m    832\u001b[0m     )\n\u001b[1;32m    833\u001b[0m     \u001b[39mfor\u001b[39;49;00m (cand_idx, parameters), (split_idx, (train, test)) \u001b[39min\u001b[39;49;00m product(\n\u001b[1;32m    834\u001b[0m         \u001b[39menumerate\u001b[39;49m(candidate_params), \u001b[39menumerate\u001b[39;49m(cv\u001b[39m.\u001b[39;49msplit(X, y, groups))\n\u001b[1;32m    835\u001b[0m     )\n\u001b[1;32m    836\u001b[0m )\n\u001b[1;32m    838\u001b[0m \u001b[39mif\u001b[39;00m \u001b[39mlen\u001b[39m(out) \u001b[39m<\u001b[39m \u001b[39m1\u001b[39m:\n\u001b[1;32m    839\u001b[0m     \u001b[39mraise\u001b[39;00m \u001b[39mValueError\u001b[39;00m(\n\u001b[1;32m    840\u001b[0m         \u001b[39m\"\u001b[39m\u001b[39mNo fits were performed. \u001b[39m\u001b[39m\"\u001b[39m\n\u001b[1;32m    841\u001b[0m         \u001b[39m\"\u001b[39m\u001b[39mWas the CV iterator empty? \u001b[39m\u001b[39m\"\u001b[39m\n\u001b[1;32m    842\u001b[0m         \u001b[39m\"\u001b[39m\u001b[39mWere there no candidates?\u001b[39m\u001b[39m\"\u001b[39m\n\u001b[1;32m    843\u001b[0m     )\n",
      "File \u001b[0;32m/Library/Frameworks/Python.framework/Versions/3.10/lib/python3.10/site-packages/sklearn/utils/parallel.py:63\u001b[0m, in \u001b[0;36mParallel.__call__\u001b[0;34m(self, iterable)\u001b[0m\n\u001b[1;32m     58\u001b[0m config \u001b[39m=\u001b[39m get_config()\n\u001b[1;32m     59\u001b[0m iterable_with_config \u001b[39m=\u001b[39m (\n\u001b[1;32m     60\u001b[0m     (_with_config(delayed_func, config), args, kwargs)\n\u001b[1;32m     61\u001b[0m     \u001b[39mfor\u001b[39;00m delayed_func, args, kwargs \u001b[39min\u001b[39;00m iterable\n\u001b[1;32m     62\u001b[0m )\n\u001b[0;32m---> 63\u001b[0m \u001b[39mreturn\u001b[39;00m \u001b[39msuper\u001b[39;49m()\u001b[39m.\u001b[39;49m\u001b[39m__call__\u001b[39;49m(iterable_with_config)\n",
      "File \u001b[0;32m/Library/Frameworks/Python.framework/Versions/3.10/lib/python3.10/site-packages/joblib/parallel.py:1085\u001b[0m, in \u001b[0;36mParallel.__call__\u001b[0;34m(self, iterable)\u001b[0m\n\u001b[1;32m   1076\u001b[0m \u001b[39mtry\u001b[39;00m:\n\u001b[1;32m   1077\u001b[0m     \u001b[39m# Only set self._iterating to True if at least a batch\u001b[39;00m\n\u001b[1;32m   1078\u001b[0m     \u001b[39m# was dispatched. In particular this covers the edge\u001b[39;00m\n\u001b[0;32m   (...)\u001b[0m\n\u001b[1;32m   1082\u001b[0m     \u001b[39m# was very quick and its callback already dispatched all the\u001b[39;00m\n\u001b[1;32m   1083\u001b[0m     \u001b[39m# remaining jobs.\u001b[39;00m\n\u001b[1;32m   1084\u001b[0m     \u001b[39mself\u001b[39m\u001b[39m.\u001b[39m_iterating \u001b[39m=\u001b[39m \u001b[39mFalse\u001b[39;00m\n\u001b[0;32m-> 1085\u001b[0m     \u001b[39mif\u001b[39;00m \u001b[39mself\u001b[39;49m\u001b[39m.\u001b[39;49mdispatch_one_batch(iterator):\n\u001b[1;32m   1086\u001b[0m         \u001b[39mself\u001b[39m\u001b[39m.\u001b[39m_iterating \u001b[39m=\u001b[39m \u001b[39mself\u001b[39m\u001b[39m.\u001b[39m_original_iterator \u001b[39mis\u001b[39;00m \u001b[39mnot\u001b[39;00m \u001b[39mNone\u001b[39;00m\n\u001b[1;32m   1088\u001b[0m     \u001b[39mwhile\u001b[39;00m \u001b[39mself\u001b[39m\u001b[39m.\u001b[39mdispatch_one_batch(iterator):\n",
      "File \u001b[0;32m/Library/Frameworks/Python.framework/Versions/3.10/lib/python3.10/site-packages/joblib/parallel.py:901\u001b[0m, in \u001b[0;36mParallel.dispatch_one_batch\u001b[0;34m(self, iterator)\u001b[0m\n\u001b[1;32m    899\u001b[0m     \u001b[39mreturn\u001b[39;00m \u001b[39mFalse\u001b[39;00m\n\u001b[1;32m    900\u001b[0m \u001b[39melse\u001b[39;00m:\n\u001b[0;32m--> 901\u001b[0m     \u001b[39mself\u001b[39;49m\u001b[39m.\u001b[39;49m_dispatch(tasks)\n\u001b[1;32m    902\u001b[0m     \u001b[39mreturn\u001b[39;00m \u001b[39mTrue\u001b[39;00m\n",
      "File \u001b[0;32m/Library/Frameworks/Python.framework/Versions/3.10/lib/python3.10/site-packages/joblib/parallel.py:819\u001b[0m, in \u001b[0;36mParallel._dispatch\u001b[0;34m(self, batch)\u001b[0m\n\u001b[1;32m    817\u001b[0m \u001b[39mwith\u001b[39;00m \u001b[39mself\u001b[39m\u001b[39m.\u001b[39m_lock:\n\u001b[1;32m    818\u001b[0m     job_idx \u001b[39m=\u001b[39m \u001b[39mlen\u001b[39m(\u001b[39mself\u001b[39m\u001b[39m.\u001b[39m_jobs)\n\u001b[0;32m--> 819\u001b[0m     job \u001b[39m=\u001b[39m \u001b[39mself\u001b[39;49m\u001b[39m.\u001b[39;49m_backend\u001b[39m.\u001b[39;49mapply_async(batch, callback\u001b[39m=\u001b[39;49mcb)\n\u001b[1;32m    820\u001b[0m     \u001b[39m# A job can complete so quickly than its callback is\u001b[39;00m\n\u001b[1;32m    821\u001b[0m     \u001b[39m# called before we get here, causing self._jobs to\u001b[39;00m\n\u001b[1;32m    822\u001b[0m     \u001b[39m# grow. To ensure correct results ordering, .insert is\u001b[39;00m\n\u001b[1;32m    823\u001b[0m     \u001b[39m# used (rather than .append) in the following line\u001b[39;00m\n\u001b[1;32m    824\u001b[0m     \u001b[39mself\u001b[39m\u001b[39m.\u001b[39m_jobs\u001b[39m.\u001b[39minsert(job_idx, job)\n",
      "File \u001b[0;32m/Library/Frameworks/Python.framework/Versions/3.10/lib/python3.10/site-packages/joblib/_parallel_backends.py:208\u001b[0m, in \u001b[0;36mSequentialBackend.apply_async\u001b[0;34m(self, func, callback)\u001b[0m\n\u001b[1;32m    206\u001b[0m \u001b[39mdef\u001b[39;00m \u001b[39mapply_async\u001b[39m(\u001b[39mself\u001b[39m, func, callback\u001b[39m=\u001b[39m\u001b[39mNone\u001b[39;00m):\n\u001b[1;32m    207\u001b[0m \u001b[39m    \u001b[39m\u001b[39m\"\"\"Schedule a func to be run\"\"\"\u001b[39;00m\n\u001b[0;32m--> 208\u001b[0m     result \u001b[39m=\u001b[39m ImmediateResult(func)\n\u001b[1;32m    209\u001b[0m     \u001b[39mif\u001b[39;00m callback:\n\u001b[1;32m    210\u001b[0m         callback(result)\n",
      "File \u001b[0;32m/Library/Frameworks/Python.framework/Versions/3.10/lib/python3.10/site-packages/joblib/_parallel_backends.py:597\u001b[0m, in \u001b[0;36mImmediateResult.__init__\u001b[0;34m(self, batch)\u001b[0m\n\u001b[1;32m    594\u001b[0m \u001b[39mdef\u001b[39;00m \u001b[39m__init__\u001b[39m(\u001b[39mself\u001b[39m, batch):\n\u001b[1;32m    595\u001b[0m     \u001b[39m# Don't delay the application, to avoid keeping the input\u001b[39;00m\n\u001b[1;32m    596\u001b[0m     \u001b[39m# arguments in memory\u001b[39;00m\n\u001b[0;32m--> 597\u001b[0m     \u001b[39mself\u001b[39m\u001b[39m.\u001b[39mresults \u001b[39m=\u001b[39m batch()\n",
      "File \u001b[0;32m/Library/Frameworks/Python.framework/Versions/3.10/lib/python3.10/site-packages/joblib/parallel.py:288\u001b[0m, in \u001b[0;36mBatchedCalls.__call__\u001b[0;34m(self)\u001b[0m\n\u001b[1;32m    284\u001b[0m \u001b[39mdef\u001b[39;00m \u001b[39m__call__\u001b[39m(\u001b[39mself\u001b[39m):\n\u001b[1;32m    285\u001b[0m     \u001b[39m# Set the default nested backend to self._backend but do not set the\u001b[39;00m\n\u001b[1;32m    286\u001b[0m     \u001b[39m# change the default number of processes to -1\u001b[39;00m\n\u001b[1;32m    287\u001b[0m     \u001b[39mwith\u001b[39;00m parallel_backend(\u001b[39mself\u001b[39m\u001b[39m.\u001b[39m_backend, n_jobs\u001b[39m=\u001b[39m\u001b[39mself\u001b[39m\u001b[39m.\u001b[39m_n_jobs):\n\u001b[0;32m--> 288\u001b[0m         \u001b[39mreturn\u001b[39;00m [func(\u001b[39m*\u001b[39margs, \u001b[39m*\u001b[39m\u001b[39m*\u001b[39mkwargs)\n\u001b[1;32m    289\u001b[0m                 \u001b[39mfor\u001b[39;00m func, args, kwargs \u001b[39min\u001b[39;00m \u001b[39mself\u001b[39m\u001b[39m.\u001b[39mitems]\n",
      "File \u001b[0;32m/Library/Frameworks/Python.framework/Versions/3.10/lib/python3.10/site-packages/joblib/parallel.py:288\u001b[0m, in \u001b[0;36m<listcomp>\u001b[0;34m(.0)\u001b[0m\n\u001b[1;32m    284\u001b[0m \u001b[39mdef\u001b[39;00m \u001b[39m__call__\u001b[39m(\u001b[39mself\u001b[39m):\n\u001b[1;32m    285\u001b[0m     \u001b[39m# Set the default nested backend to self._backend but do not set the\u001b[39;00m\n\u001b[1;32m    286\u001b[0m     \u001b[39m# change the default number of processes to -1\u001b[39;00m\n\u001b[1;32m    287\u001b[0m     \u001b[39mwith\u001b[39;00m parallel_backend(\u001b[39mself\u001b[39m\u001b[39m.\u001b[39m_backend, n_jobs\u001b[39m=\u001b[39m\u001b[39mself\u001b[39m\u001b[39m.\u001b[39m_n_jobs):\n\u001b[0;32m--> 288\u001b[0m         \u001b[39mreturn\u001b[39;00m [func(\u001b[39m*\u001b[39;49margs, \u001b[39m*\u001b[39;49m\u001b[39m*\u001b[39;49mkwargs)\n\u001b[1;32m    289\u001b[0m                 \u001b[39mfor\u001b[39;00m func, args, kwargs \u001b[39min\u001b[39;00m \u001b[39mself\u001b[39m\u001b[39m.\u001b[39mitems]\n",
      "File \u001b[0;32m/Library/Frameworks/Python.framework/Versions/3.10/lib/python3.10/site-packages/sklearn/utils/parallel.py:123\u001b[0m, in \u001b[0;36m_FuncWrapper.__call__\u001b[0;34m(self, *args, **kwargs)\u001b[0m\n\u001b[1;32m    121\u001b[0m     config \u001b[39m=\u001b[39m {}\n\u001b[1;32m    122\u001b[0m \u001b[39mwith\u001b[39;00m config_context(\u001b[39m*\u001b[39m\u001b[39m*\u001b[39mconfig):\n\u001b[0;32m--> 123\u001b[0m     \u001b[39mreturn\u001b[39;00m \u001b[39mself\u001b[39;49m\u001b[39m.\u001b[39;49mfunction(\u001b[39m*\u001b[39;49margs, \u001b[39m*\u001b[39;49m\u001b[39m*\u001b[39;49mkwargs)\n",
      "File \u001b[0;32m/Library/Frameworks/Python.framework/Versions/3.10/lib/python3.10/site-packages/sklearn/model_selection/_validation.py:674\u001b[0m, in \u001b[0;36m_fit_and_score\u001b[0;34m(estimator, X, y, scorer, train, test, verbose, parameters, fit_params, return_train_score, return_parameters, return_n_test_samples, return_times, return_estimator, split_progress, candidate_progress, error_score)\u001b[0m\n\u001b[1;32m    671\u001b[0m     \u001b[39mfor\u001b[39;00m k, v \u001b[39min\u001b[39;00m parameters\u001b[39m.\u001b[39mitems():\n\u001b[1;32m    672\u001b[0m         cloned_parameters[k] \u001b[39m=\u001b[39m clone(v, safe\u001b[39m=\u001b[39m\u001b[39mFalse\u001b[39;00m)\n\u001b[0;32m--> 674\u001b[0m     estimator \u001b[39m=\u001b[39m estimator\u001b[39m.\u001b[39;49mset_params(\u001b[39m*\u001b[39;49m\u001b[39m*\u001b[39;49mcloned_parameters)\n\u001b[1;32m    676\u001b[0m start_time \u001b[39m=\u001b[39m time\u001b[39m.\u001b[39mtime()\n\u001b[1;32m    678\u001b[0m X_train, y_train \u001b[39m=\u001b[39m _safe_split(estimator, X, y, train)\n",
      "File \u001b[0;32m/Library/Frameworks/Python.framework/Versions/3.10/lib/python3.10/site-packages/scikeras/wrappers.py:1165\u001b[0m, in \u001b[0;36mBaseWrapper.set_params\u001b[0;34m(self, **params)\u001b[0m\n\u001b[1;32m   1161\u001b[0m             \u001b[39msuper\u001b[39m()\u001b[39m.\u001b[39mset_params(\u001b[39m*\u001b[39m\u001b[39m*\u001b[39m{param: value})\n\u001b[1;32m   1162\u001b[0m         \u001b[39mexcept\u001b[39;00m \u001b[39mValueError\u001b[39;00m:\n\u001b[1;32m   1163\u001b[0m             \u001b[39m# Give a SciKeras specific user message to aid\u001b[39;00m\n\u001b[1;32m   1164\u001b[0m             \u001b[39m# in moving from the Keras wrappers\u001b[39;00m\n\u001b[0;32m-> 1165\u001b[0m             \u001b[39mraise\u001b[39;00m \u001b[39mValueError\u001b[39;00m(\n\u001b[1;32m   1166\u001b[0m                 \u001b[39mf\u001b[39m\u001b[39m\"\u001b[39m\u001b[39mInvalid parameter \u001b[39m\u001b[39m{\u001b[39;00mparam\u001b[39m}\u001b[39;00m\u001b[39m for estimator \u001b[39m\u001b[39m{\u001b[39;00m\u001b[39mself\u001b[39m\u001b[39m.\u001b[39m\u001b[39m__name__\u001b[39m\u001b[39m}\u001b[39;00m\u001b[39m.\u001b[39m\u001b[39m\"\u001b[39m\n\u001b[1;32m   1167\u001b[0m                 \u001b[39m\"\u001b[39m\u001b[39m\\n\u001b[39;00m\u001b[39mThis issue can likely be resolved by setting this parameter\u001b[39m\u001b[39m\"\u001b[39m\n\u001b[1;32m   1168\u001b[0m                 \u001b[39mf\u001b[39m\u001b[39m\"\u001b[39m\u001b[39m in the \u001b[39m\u001b[39m{\u001b[39;00m\u001b[39mself\u001b[39m\u001b[39m.\u001b[39m\u001b[39m__name__\u001b[39m\u001b[39m}\u001b[39;00m\u001b[39m constructor:\u001b[39m\u001b[39m\"\u001b[39m\n\u001b[1;32m   1169\u001b[0m                 \u001b[39mf\u001b[39m\u001b[39m\"\u001b[39m\u001b[39m\\n\u001b[39;00m\u001b[39m`\u001b[39m\u001b[39m{\u001b[39;00m\u001b[39mself\u001b[39m\u001b[39m.\u001b[39m\u001b[39m__name__\u001b[39m\u001b[39m}\u001b[39;00m\u001b[39m(\u001b[39m\u001b[39m{\u001b[39;00mparam\u001b[39m}\u001b[39;00m\u001b[39m=\u001b[39m\u001b[39m{\u001b[39;00mvalue\u001b[39m}\u001b[39;00m\u001b[39m)`\u001b[39m\u001b[39m\"\u001b[39m\n\u001b[1;32m   1170\u001b[0m                 \u001b[39m\"\u001b[39m\u001b[39m\\n\u001b[39;00m\u001b[39mCheck the list of available parameters with\u001b[39m\u001b[39m\"\u001b[39m\n\u001b[1;32m   1171\u001b[0m                 \u001b[39m\"\u001b[39m\u001b[39m `estimator.get_params().keys()`\u001b[39m\u001b[39m\"\u001b[39m\n\u001b[1;32m   1172\u001b[0m             ) \u001b[39mfrom\u001b[39;00m \u001b[39mNone\u001b[39m\n\u001b[1;32m   1173\u001b[0m \u001b[39mreturn\u001b[39;00m \u001b[39mself\u001b[39m\n",
      "\u001b[0;31mValueError\u001b[0m: Invalid parameter n_neurons for estimator KerasRegressor.\nThis issue can likely be resolved by setting this parameter in the KerasRegressor constructor:\n`KerasRegressor(n_neurons=79)`\nCheck the list of available parameters with `estimator.get_params().keys()`"
     ]
    }
   ],
   "source": [
    "from scipy.stats import reciprocal\n",
    "from sklearn.model_selection import RandomizedSearchCV\n",
    "\n",
    "param_distribs = {\n",
    "    \"n_hidden\": [0, 1, 2, 3],\n",
    "    \"n_neurons\": np.arange(1, 100).tolist(),\n",
    "    \"learning_rate\": reciprocal(3e-4, 3e-2).rvs(1000).tolist(),\n",
    "}\n",
    "\n",
    "rnd_search_cv = RandomizedSearchCV(keras_reg, param_distribs, n_iter=10, cv=3, verbose=2)\n",
    "rnd_search_cv.fit(X_train, y_train, epochs=100,\n",
    "                  validation_data=(X_valid, y_valid),\n",
    "                  callbacks=[keras.callbacks.EarlyStopping(patience=10)])"
   ]
  },
  {
   "cell_type": "code",
   "execution_count": 107,
   "metadata": {},
   "outputs": [
    {
     "ename": "AttributeError",
     "evalue": "'RandomizedSearchCV' object has no attribute 'best_params_'",
     "output_type": "error",
     "traceback": [
      "\u001b[0;31m---------------------------------------------------------------------------\u001b[0m",
      "\u001b[0;31mAttributeError\u001b[0m                            Traceback (most recent call last)",
      "\u001b[1;32m/Users/oneash/ONEASH/Coding/HandsOnML2/codes/10_neural_nets_with_keras.ipynb Cell 79\u001b[0m line \u001b[0;36m1\n\u001b[0;32m----> <a href='vscode-notebook-cell:/Users/oneash/ONEASH/Coding/HandsOnML2/codes/10_neural_nets_with_keras.ipynb#Y200sZmlsZQ%3D%3D?line=0'>1</a>\u001b[0m rnd_search_cv\u001b[39m.\u001b[39;49mbest_params_\n",
      "\u001b[0;31mAttributeError\u001b[0m: 'RandomizedSearchCV' object has no attribute 'best_params_'"
     ]
    }
   ],
   "source": [
    "rnd_search_cv.best_params_"
   ]
  },
  {
   "cell_type": "code",
   "execution_count": 108,
   "metadata": {},
   "outputs": [
    {
     "ename": "AttributeError",
     "evalue": "'RandomizedSearchCV' object has no attribute 'best_score_'",
     "output_type": "error",
     "traceback": [
      "\u001b[0;31m---------------------------------------------------------------------------\u001b[0m",
      "\u001b[0;31mAttributeError\u001b[0m                            Traceback (most recent call last)",
      "\u001b[1;32m/Users/oneash/ONEASH/Coding/HandsOnML2/codes/10_neural_nets_with_keras.ipynb Cell 80\u001b[0m line \u001b[0;36m1\n\u001b[0;32m----> <a href='vscode-notebook-cell:/Users/oneash/ONEASH/Coding/HandsOnML2/codes/10_neural_nets_with_keras.ipynb#Y201sZmlsZQ%3D%3D?line=0'>1</a>\u001b[0m rnd_search_cv\u001b[39m.\u001b[39;49mbest_score_\n",
      "\u001b[0;31mAttributeError\u001b[0m: 'RandomizedSearchCV' object has no attribute 'best_score_'"
     ]
    }
   ],
   "source": [
    "rnd_search_cv.best_score_"
   ]
  },
  {
   "cell_type": "markdown",
   "metadata": {},
   "source": [
    "### 10.3.1 은닉층 개수"
   ]
  },
  {
   "cell_type": "markdown",
   "metadata": {},
   "source": [
    "### 10.3.2 은닉층의 뉴런 개수"
   ]
  },
  {
   "cell_type": "markdown",
   "metadata": {},
   "source": [
    "### 10.3.3 학습률, 배치 크기 그리고 다른 하이퍼파라미터"
   ]
  },
  {
   "cell_type": "markdown",
   "metadata": {},
   "source": [
    "## 10.4 연습문제"
   ]
  },
  {
   "cell_type": "markdown",
   "metadata": {},
   "source": [
    "### 10"
   ]
  },
  {
   "cell_type": "code",
   "execution_count": 109,
   "metadata": {},
   "outputs": [
    {
     "name": "stdout",
     "output_type": "stream",
     "text": [
      "Downloading data from https://storage.googleapis.com/tensorflow/tf-keras-datasets/mnist.npz\n",
      "11490434/11490434 [==============================] - 1s 0us/step\n"
     ]
    }
   ],
   "source": [
    "(X_train_full, y_train_full), (X_test, y_test) = keras.datasets.mnist.load_data()"
   ]
  },
  {
   "cell_type": "code",
   "execution_count": 112,
   "metadata": {},
   "outputs": [
    {
     "data": {
      "text/plain": [
       "(60000, 28, 28)"
      ]
     },
     "execution_count": 112,
     "metadata": {},
     "output_type": "execute_result"
    }
   ],
   "source": [
    "X_train_full.shape"
   ]
  },
  {
   "cell_type": "code",
   "execution_count": 114,
   "metadata": {},
   "outputs": [
    {
     "data": {
      "text/plain": [
       "dtype('uint8')"
      ]
     },
     "execution_count": 114,
     "metadata": {},
     "output_type": "execute_result"
    }
   ],
   "source": [
    "X_train_full.dtype"
   ]
  },
  {
   "cell_type": "code",
   "execution_count": 115,
   "metadata": {},
   "outputs": [],
   "source": [
    "X_train, X_valid = X_train_full[:5000] / 255., X_train_full[5000:] / 255.\n",
    "y_train, y_valid = y_train_full[:5000], y_train_full[5000:]\n",
    "X_test = X_test / 255."
   ]
  },
  {
   "cell_type": "code",
   "execution_count": 119,
   "metadata": {},
   "outputs": [
    {
     "data": {
      "image/png": "[encoded data removed]",
      "text/plain": [
       "<Figure size 640x480 with 1 Axes>"
      ]
     },
     "metadata": {},
     "output_type": "display_data"
    }
   ],
   "source": [
    "plt.imshow(X_train[0], cmap='binary')\n",
    "plt.axis('off')\n",
    "plt.show()"
   ]
  },
  {
   "cell_type": "code",
   "execution_count": 120,
   "metadata": {},
   "outputs": [
    {
     "data": {
      "text/plain": [
       "array([5, 0, 4, ..., 2, 1, 2], dtype=uint8)"
      ]
     },
     "execution_count": 120,
     "metadata": {},
     "output_type": "execute_result"
    }
   ],
   "source": [
    "y_train"
   ]
  },
  {
   "cell_type": "code",
   "execution_count": 121,
   "metadata": {},
   "outputs": [
    {
     "data": {
      "text/plain": [
       "(55000, 28, 28)"
      ]
     },
     "execution_count": 121,
     "metadata": {},
     "output_type": "execute_result"
    }
   ],
   "source": [
    "X_valid.shape"
   ]
  },
  {
   "cell_type": "code",
   "execution_count": 123,
   "metadata": {},
   "outputs": [
    {
     "data": {
      "text/plain": [
       "(10000, 28, 28)"
      ]
     },
     "execution_count": 123,
     "metadata": {},
     "output_type": "execute_result"
    }
   ],
   "source": [
    "X_test.shape"
   ]
  },
  {
   "cell_type": "code",
   "execution_count": 124,
   "metadata": {},
   "outputs": [
    {
     "data": {
      "image/png": "[encoded data removed]",
      "text/plain": [
       "<Figure size 1200x480 with 40 Axes>"
      ]
     },
     "metadata": {},
     "output_type": "display_data"
    }
   ],
   "source": [
    "n_rows = 4\n",
    "n_cols = 10\n",
    "plt.figure(figsize=(n_cols * 1.2, n_rows * 1.2))\n",
    "for row in range(n_rows):\n",
    "    for col in range(n_cols):\n",
    "        index = n_cols * row + col\n",
    "        plt.subplot(n_rows, n_cols, index + 1)\n",
    "        plt.imshow(X_train[index], cmap='binary', interpolation='nearest')\n",
    "        plt.axis('off')\n",
    "        plt.title(y_train[index], fontsize=12)\n",
    "\n",
    "plt.subplots_adjust(wspace=0.2, hspace=0.5)\n",
    "plt.show()"
   ]
  },
  {
   "cell_type": "code",
   "execution_count": 158,
   "metadata": {},
   "outputs": [],
   "source": [
    "K = keras.backend\n",
    "\n",
    "class ExponentialLearningRate(keras.callbacks.Callback):\n",
    "    def __init__(self, factor):\n",
    "        self.factor = factor\n",
    "        self.rates = []\n",
    "        self.losses = []\n",
    "    def on_batch_end(self, batch, logs):\n",
    "        self.rates.append(K.get_value(self.model.optimizer.lr))\n",
    "        self.losses.append(logs[\"loss\"])\n",
    "        K.set_value(self.model.optimizer.lr, self.model.optimizer.lr * self.factor)"
   ]
  },
  {
   "cell_type": "code",
   "execution_count": 196,
   "metadata": {},
   "outputs": [],
   "source": [
    "keras.backend.clear_session()\n",
    "np.random.seed(42)\n",
    "tf.random.set_seed(42)"
   ]
  },
  {
   "cell_type": "code",
   "execution_count": 197,
   "metadata": {},
   "outputs": [],
   "source": [
    "model = keras.models.Sequential([\n",
    "    keras.layers.Flatten(input_shape=[28, 28]),\n",
    "    keras.layers.Dense(300, activation=\"relu\"),\n",
    "    keras.layers.Dense(100, activation=\"relu\"),\n",
    "    keras.layers.Dense(10, activation=\"softmax\")\n",
    "])"
   ]
  },
  {
   "cell_type": "code",
   "execution_count": 198,
   "metadata": {},
   "outputs": [
    {
     "name": "stderr",
     "output_type": "stream",
     "text": [
      "WARNING:absl:At this time, the v2.11+ optimizer `tf.keras.optimizers.SGD` runs slowly on M1/M2 Macs, please use the legacy Keras optimizer instead, located at `tf.keras.optimizers.legacy.SGD`.\n",
      "WARNING:absl:There is a known slowdown when using v2.11+ Keras optimizers on M1/M2 Macs. Falling back to the legacy Keras optimizer, i.e., `tf.keras.optimizers.legacy.SGD`.\n"
     ]
    }
   ],
   "source": [
    "model.compile(loss=\"sparse_categorical_crossentropy\",\n",
    "              optimizer=keras.optimizers.SGD(learning_rate=4e-1),\n",
    "              metrics=[\"accuracy\"])\n",
    "expon_lr = ExponentialLearningRate(factor=1.005)"
   ]
  },
  {
   "cell_type": "code",
   "execution_count": 199,
   "metadata": {},
   "outputs": [
    {
     "name": "stdout",
     "output_type": "stream",
     "text": [
      "157/157 [==============================] - 1s 7ms/step - loss: 0.8723 - accuracy: 0.7312 - val_loss: 3.4430 - val_accuracy: 0.6017\n"
     ]
    }
   ],
   "source": [
    "history = model.fit(X_train, y_train, epochs=1,\n",
    "                    validation_data=(X_valid, y_valid),\n",
    "                    callbacks=[expon_lr])"
   ]
  },
  {
   "cell_type": "code",
   "execution_count": 200,
   "metadata": {},
   "outputs": [
    {
     "data": {
      "text/plain": [
       "Text(0, 0.5, 'Loss')"
      ]
     },
     "execution_count": 200,
     "metadata": {},
     "output_type": "execute_result"
    },
    {
     "data": {
      "image/png": "[encoded data removed]",
      "text/plain": [
       "<Figure size 640x480 with 1 Axes>"
      ]
     },
     "metadata": {},
     "output_type": "display_data"
    }
   ],
   "source": [
    "plt.plot(expon_lr.rates, expon_lr.losses)\n",
    "# plt.gca().set_xscale('log')\n",
    "plt.hlines(min(expon_lr.losses), min(expon_lr.rates), max(expon_lr.rates), 'black')\n",
    "plt.axis([min(expon_lr.rates), max(expon_lr.rates), 0, max(expon_lr.losses)])\n",
    "plt.grid()\n",
    "plt.xlabel(\"Learning rate\")\n",
    "plt.ylabel(\"Loss\")"
   ]
  },
  {
   "cell_type": "code",
   "execution_count": 201,
   "metadata": {},
   "outputs": [],
   "source": [
    "keras.backend.clear_session()\n",
    "np.random.seed(42)\n",
    "tf.random.set_seed(42)\n"
   ]
  },
  {
   "cell_type": "code",
   "execution_count": 202,
   "metadata": {},
   "outputs": [],
   "source": [
    "model = keras.models.Sequential([\n",
    "    keras.layers.Flatten(input_shape=[28, 28]),\n",
    "    keras.layers.Dense(300, activation=\"relu\"),\n",
    "    keras.layers.Dense(100, activation=\"relu\"),\n",
    "    keras.layers.Dense(10, activation=\"softmax\")\n",
    "])"
   ]
  },
  {
   "cell_type": "code",
   "execution_count": 203,
   "metadata": {},
   "outputs": [
    {
     "name": "stderr",
     "output_type": "stream",
     "text": [
      "WARNING:absl:At this time, the v2.11+ optimizer `tf.keras.optimizers.SGD` runs slowly on M1/M2 Macs, please use the legacy Keras optimizer instead, located at `tf.keras.optimizers.legacy.SGD`.\n",
      "WARNING:absl:There is a known slowdown when using v2.11+ Keras optimizers on M1/M2 Macs. Falling back to the legacy Keras optimizer, i.e., `tf.keras.optimizers.legacy.SGD`.\n"
     ]
    }
   ],
   "source": [
    "model.compile(loss=\"sparse_categorical_crossentropy\",\n",
    "              optimizer=keras.optimizers.SGD(learning_rate=3e-1),\n",
    "              metrics=[\"accuracy\"])"
   ]
  },
  {
   "cell_type": "code",
   "execution_count": 204,
   "metadata": {},
   "outputs": [
    {
     "data": {
      "text/plain": [
       "'./my_mnist_logs/run_001'"
      ]
     },
     "execution_count": 204,
     "metadata": {},
     "output_type": "execute_result"
    }
   ],
   "source": [
    "run_index = 1 # 실행할 때마다 이 값을 늘립니다\n",
    "run_logdir = os.path.join(os.curdir, \"my_mnist_logs\", \"run_{:03d}\".format(run_index))\n",
    "run_logdir"
   ]
  },
  {
   "cell_type": "code",
   "execution_count": 205,
   "metadata": {},
   "outputs": [
    {
     "name": "stdout",
     "output_type": "stream",
     "text": [
      "Epoch 1/100\n",
      "157/157 [==============================] - 1s 8ms/step - loss: 0.6256 - accuracy: 0.7992 - val_loss: 0.9995 - val_accuracy: 0.7560\n",
      "Epoch 2/100\n",
      "113/157 [====================>.........] - ETA: 0s - loss: 0.2362 - accuracy: 0.9267"
     ]
    },
    {
     "name": "stderr",
     "output_type": "stream",
     "text": [
      "/Library/Frameworks/Python.framework/Versions/3.10/lib/python3.10/site-packages/keras/src/engine/training.py:3000: UserWarning: You are saving your model as an HDF5 file via `model.save()`. This file format is considered legacy. We recommend using instead the native Keras format, e.g. `model.save('my_model.keras')`.\n",
      "  saving_api.save_model(\n"
     ]
    },
    {
     "name": "stdout",
     "output_type": "stream",
     "text": [
      "157/157 [==============================] - 1s 6ms/step - loss: 0.2368 - accuracy: 0.9250 - val_loss: 0.2930 - val_accuracy: 0.9090\n",
      "Epoch 3/100\n",
      "157/157 [==============================] - 1s 6ms/step - loss: 0.1413 - accuracy: 0.9562 - val_loss: 0.2493 - val_accuracy: 0.9247\n",
      "Epoch 4/100\n",
      "157/157 [==============================] - 1s 6ms/step - loss: 0.0937 - accuracy: 0.9696 - val_loss: 0.2480 - val_accuracy: 0.9261\n",
      "Epoch 5/100\n",
      "157/157 [==============================] - 1s 6ms/step - loss: 0.0480 - accuracy: 0.9868 - val_loss: 0.2091 - val_accuracy: 0.9407\n",
      "Epoch 6/100\n",
      "157/157 [==============================] - 1s 6ms/step - loss: 0.0310 - accuracy: 0.9916 - val_loss: 0.2336 - val_accuracy: 0.9361\n",
      "Epoch 7/100\n",
      "157/157 [==============================] - 1s 6ms/step - loss: 0.0180 - accuracy: 0.9960 - val_loss: 0.2134 - val_accuracy: 0.9432\n",
      "Epoch 8/100\n",
      "157/157 [==============================] - 1s 6ms/step - loss: 0.0069 - accuracy: 0.9994 - val_loss: 0.2066 - val_accuracy: 0.9472\n",
      "Epoch 9/100\n",
      "157/157 [==============================] - 1s 6ms/step - loss: 0.0031 - accuracy: 1.0000 - val_loss: 0.2163 - val_accuracy: 0.9470\n",
      "Epoch 10/100\n",
      "157/157 [==============================] - 1s 6ms/step - loss: 0.0021 - accuracy: 1.0000 - val_loss: 0.2211 - val_accuracy: 0.9470\n",
      "Epoch 11/100\n",
      "157/157 [==============================] - 1s 6ms/step - loss: 0.0017 - accuracy: 1.0000 - val_loss: 0.2237 - val_accuracy: 0.9471\n",
      "Epoch 12/100\n",
      "157/157 [==============================] - 1s 6ms/step - loss: 0.0014 - accuracy: 1.0000 - val_loss: 0.2292 - val_accuracy: 0.9470\n",
      "Epoch 13/100\n",
      "157/157 [==============================] - 1s 6ms/step - loss: 0.0012 - accuracy: 1.0000 - val_loss: 0.2305 - val_accuracy: 0.9470\n",
      "Epoch 14/100\n",
      "157/157 [==============================] - 1s 8ms/step - loss: 0.0010 - accuracy: 1.0000 - val_loss: 0.2336 - val_accuracy: 0.9469\n",
      "Epoch 15/100\n",
      "157/157 [==============================] - 1s 6ms/step - loss: 9.3232e-04 - accuracy: 1.0000 - val_loss: 0.2355 - val_accuracy: 0.9469\n",
      "Epoch 16/100\n",
      "157/157 [==============================] - 1s 7ms/step - loss: 8.3694e-04 - accuracy: 1.0000 - val_loss: 0.2381 - val_accuracy: 0.9468\n",
      "Epoch 17/100\n",
      "157/157 [==============================] - 1s 6ms/step - loss: 7.6871e-04 - accuracy: 1.0000 - val_loss: 0.2395 - val_accuracy: 0.9473\n",
      "Epoch 18/100\n",
      "157/157 [==============================] - 1s 6ms/step - loss: 7.0591e-04 - accuracy: 1.0000 - val_loss: 0.2405 - val_accuracy: 0.9468\n",
      "Epoch 19/100\n",
      "157/157 [==============================] - 1s 7ms/step - loss: 6.5154e-04 - accuracy: 1.0000 - val_loss: 0.2426 - val_accuracy: 0.9472\n",
      "Epoch 20/100\n",
      "157/157 [==============================] - 1s 6ms/step - loss: 6.1101e-04 - accuracy: 1.0000 - val_loss: 0.2437 - val_accuracy: 0.9472\n",
      "Epoch 21/100\n",
      "157/157 [==============================] - 1s 7ms/step - loss: 5.6967e-04 - accuracy: 1.0000 - val_loss: 0.2457 - val_accuracy: 0.9472\n",
      "Epoch 22/100\n",
      "157/157 [==============================] - 1s 6ms/step - loss: 5.3001e-04 - accuracy: 1.0000 - val_loss: 0.2475 - val_accuracy: 0.9470\n",
      "Epoch 23/100\n",
      "157/157 [==============================] - 1s 6ms/step - loss: 5.0314e-04 - accuracy: 1.0000 - val_loss: 0.2480 - val_accuracy: 0.9471\n",
      "Epoch 24/100\n",
      "157/157 [==============================] - 1s 8ms/step - loss: 4.7400e-04 - accuracy: 1.0000 - val_loss: 0.2496 - val_accuracy: 0.9471\n",
      "Epoch 25/100\n",
      "157/157 [==============================] - 1s 7ms/step - loss: 4.4791e-04 - accuracy: 1.0000 - val_loss: 0.2511 - val_accuracy: 0.9471\n",
      "Epoch 26/100\n",
      "157/157 [==============================] - 1s 7ms/step - loss: 4.2694e-04 - accuracy: 1.0000 - val_loss: 0.2519 - val_accuracy: 0.9472\n",
      "Epoch 27/100\n",
      "157/157 [==============================] - 1s 6ms/step - loss: 4.0630e-04 - accuracy: 1.0000 - val_loss: 0.2528 - val_accuracy: 0.9471\n",
      "Epoch 28/100\n",
      "157/157 [==============================] - 1s 6ms/step - loss: 3.8699e-04 - accuracy: 1.0000 - val_loss: 0.2535 - val_accuracy: 0.9471\n"
     ]
    }
   ],
   "source": [
    "early_stopping_cb = keras.callbacks.EarlyStopping(patience=20)\n",
    "checkpoint_cb = keras.callbacks.ModelCheckpoint(\"my_mnist_model.h5\", save_best_only=True)\n",
    "tensorboard_cb = keras.callbacks.TensorBoard(run_logdir)\n",
    "\n",
    "history = model.fit(X_train, y_train, epochs=100,\n",
    "                    validation_data=(X_valid, y_valid),\n",
    "                    callbacks=[checkpoint_cb, early_stopping_cb, tensorboard_cb])"
   ]
  },
  {
   "cell_type": "code",
   "execution_count": 206,
   "metadata": {},
   "outputs": [
    {
     "name": "stdout",
     "output_type": "stream",
     "text": [
      "313/313 [==============================] - 0s 527us/step - loss: 0.1909 - accuracy: 0.9495\n"
     ]
    },
    {
     "data": {
      "text/plain": [
       "[0.19090034067630768, 0.9495000243186951]"
      ]
     },
     "execution_count": 206,
     "metadata": {},
     "output_type": "execute_result"
    }
   ],
   "source": [
    "model = keras.models.load_model('my_mnist_model.h5')\n",
    "model.evaluate(X_test, y_test)"
   ]
  },
  {
   "cell_type": "code",
   "execution_count": null,
   "metadata": {},
   "outputs": [],
   "source": []
  }
 ],
 "metadata": {
  "kernelspec": {
   "display_name": "Python 3",
   "language": "python",
   "name": "python3"
  },
  "language_info": {
   "codemirror_mode": {
    "name": "ipython",
    "version": 3
   },
   "file_extension": ".py",
   "mimetype": "text/x-python",
   "name": "python",
   "nbconvert_exporter": "python",
   "pygments_lexer": "ipython3",
   "version": "3.10.5"
  },
  "orig_nbformat": 4
 },
 "nbformat": 4,
 "nbformat_minor": 2
}
